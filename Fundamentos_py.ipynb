{
 "cells": [
  {
   "attachments": {},
   "cell_type": "markdown",
   "metadata": {},
   "source": [
    "<h1 align=\"center\">Fundamentos en Python</h1> "
   ]
  },
  {
   "attachments": {},
   "cell_type": "markdown",
   "metadata": {},
   "source": [
    "### Manejo de Variables"
   ]
  },
  {
   "attachments": {},
   "cell_type": "markdown",
   "metadata": {},
   "source": [
    "Una variable es un contenedor para un valor, que puede ser un número, una cadena de texto, una lista, etc. Para asignar un valor a una variable en Python, se utiliza el operador de asignación \"=\"."
   ]
  },
  {
   "cell_type": "code",
   "execution_count": 3,
   "metadata": {},
   "outputs": [
    {
     "name": "stdout",
     "output_type": "stream",
     "text": [
      "5 Hola\n"
     ]
    }
   ],
   "source": [
    "x = 5\n",
    "y = \"Hola\"\n",
    "print(x, y)"
   ]
  },
  {
   "attachments": {},
   "cell_type": "markdown",
   "metadata": {},
   "source": [
    "En este ejemplo, \"x\" es una variable que contiene el valor \"5\" y \"y\" es una variable que contiene la cadena \"Hola\".\n",
    "No es necesario declarar el tipo de dato de una variable antes de asignarle un valor, ya que Python es un lenguaje de programación de tipado dinámico. Esto significa que el tipo de datos de una variable se determina automáticamente en función del valor que se le asigna. Por ejemplo, en el siguiente código, la variable \"x\" es un entero y el tipo puede cambiar si se reasigna otro valor.\n",
    "Además de esto, también se pueden asignar varios valores en una sola línea o mismos valores en una sola línea."
   ]
  },
  {
   "cell_type": "code",
   "execution_count": 8,
   "metadata": {},
   "outputs": [
    {
     "name": "stdout",
     "output_type": "stream",
     "text": [
      "1 2 3\n",
      "0 0 0\n"
     ]
    }
   ],
   "source": [
    "x, y, z = 1, 2, 3\n",
    "print(x, y, z)\n",
    "x = y = z = 0\n",
    "print(x, y, z)"
   ]
  },
  {
   "attachments": {},
   "cell_type": "markdown",
   "metadata": {},
   "source": [
    "### Manejo de Operadores"
   ]
  },
  {
   "attachments": {},
   "cell_type": "markdown",
   "metadata": {},
   "source": [
    "Los operadores se utilizan para realizar operaciones en variables y valores. Los operadores más comunes son los siguientes:"
   ]
  },
  {
   "attachments": {},
   "cell_type": "markdown",
   "metadata": {},
   "source": [
    "**Operadores aritméticos**: se utilizan para realizar operaciones matemáticas básicas. Los operadores aritméticos en Python son:"
   ]
  },
  {
   "cell_type": "code",
   "execution_count": null,
   "metadata": {},
   "outputs": [],
   "source": [
    "# +  suma\n",
    "# -  resta\n",
    "# *  multiplicación\n",
    "# /  división\n",
    "# %  módulo (resto de una división)\n",
    "# ** exponente\n",
    "# // división entera"
   ]
  },
  {
   "attachments": {},
   "cell_type": "markdown",
   "metadata": {},
   "source": [
    "**Operadores de asignación**: se utilizan para asignar valores a variables. Los operadores de asignación en Python son:"
   ]
  },
  {
   "cell_type": "code",
   "execution_count": null,
   "metadata": {},
   "outputs": [],
   "source": [
    "# =   asignación simple\n",
    "# +=  suma y asignación\n",
    "# -=  resta y asignación\n",
    "# *=  multiplicación y asignación\n",
    "# /=  división y asignación\n",
    "# %=  módulo y asignación\n",
    "# **= exponente y asignación\n",
    "# //= división entera y asignación"
   ]
  },
  {
   "attachments": {},
   "cell_type": "markdown",
   "metadata": {},
   "source": [
    "**Operadores de comparación**: se utilizan para comparar dos valores y devolver un valor booleano (True o False). Los operadores de comparación en Python son:"
   ]
  },
  {
   "cell_type": "code",
   "execution_count": null,
   "metadata": {},
   "outputs": [],
   "source": [
    "# == igual a\n",
    "# != diferente a\n",
    "# <  menor que\n",
    "# >  mayor que\n",
    "# <= menor o igual que\n",
    "# >= mayor o igual que"
   ]
  },
  {
   "attachments": {},
   "cell_type": "markdown",
   "metadata": {},
   "source": [
    "**Operadores lógicos**: se utilizan para combinar expresiones lógicas y devolver un valor booleano (True o False). Los operadores lógicos en Python son:"
   ]
  },
  {
   "cell_type": "code",
   "execution_count": null,
   "metadata": {},
   "outputs": [],
   "source": [
    "# and y lógico\n",
    "# or  o lógico\n",
    "# not negación lógica"
   ]
  },
  {
   "attachments": {},
   "cell_type": "markdown",
   "metadata": {},
   "source": [
    "**Operadores de identidad**: se utilizan para comparar si dos objetos son el mismo objeto. Los operadores de identidad en Python son:"
   ]
  },
  {
   "cell_type": "code",
   "execution_count": null,
   "metadata": {},
   "outputs": [],
   "source": [
    "# is     es el mismo objeto\n",
    "# is not no es el mismo objeto"
   ]
  },
  {
   "attachments": {},
   "cell_type": "markdown",
   "metadata": {},
   "source": [
    "**Operadores de pertenencia**: se utilizan para comprobar si un valor se encuentra dentro de una secuencia. Los operadores de pertenencia en Python son:"
   ]
  },
  {
   "cell_type": "code",
   "execution_count": null,
   "metadata": {},
   "outputs": [],
   "source": [
    "# in     está en la secuencia\n",
    "# not in no está en la secuencia"
   ]
  },
  {
   "attachments": {},
   "cell_type": "markdown",
   "metadata": {},
   "source": [
    "### Manejo de Sentencias de Control If-Elif-Else"
   ]
  },
  {
   "attachments": {},
   "cell_type": "markdown",
   "metadata": {},
   "source": [
    "Las sentencias de control if-else se utilizan para tomar decisiones en el código en función de una condición. La condición se evalúa como verdadera o falsa, y si es verdadera, se ejecuta el código dentro del bloque if. Si es falsa, se ejecuta el código dentro del bloque else.\n",
    "También se pueden utilizar sentencias elif para evaluar múltiples condiciones. La estructura básica es la siguiente:"
   ]
  },
  {
   "cell_type": "code",
   "execution_count": null,
   "metadata": {},
   "outputs": [],
   "source": [
    "if condicion1:\n",
    "    # Código si la condición 1 es verdadera\n",
    "elif condicion2:\n",
    "    # Código si la condición 2 es verdadera\n",
    "else:\n",
    "    # Código si ninguna condición es verdadera"
   ]
  },
  {
   "attachments": {},
   "cell_type": "markdown",
   "metadata": {},
   "source": [
    "La sentencia elif evalúa una nueva condición si la condición anterior fue falsa, y se pueden utilizar tantas sentencias elif como sea necesario.\n",
    "Es importante tener en cuenta que los bloques de código deben estar indentados con cuatro espacios, y que los bloques else y elif son opcionales.\n",
    "Ejemplo de una sentencia de control if-else que imprime un mensaje diferente en función de si el número es par o impar:"
   ]
  },
  {
   "cell_type": "code",
   "execution_count": 10,
   "metadata": {},
   "outputs": [
    {
     "name": "stdout",
     "output_type": "stream",
     "text": [
      "El número es impar\n"
     ]
    }
   ],
   "source": [
    "numero = 5\n",
    "\n",
    "if numero % 2 == 0:\n",
    "    print(\"El número es par\")\n",
    "else:\n",
    "    print(\"El número es impar\")"
   ]
  },
  {
   "attachments": {},
   "cell_type": "markdown",
   "metadata": {},
   "source": [
    "### Uso de Ciclos While y For"
   ]
  },
  {
   "attachments": {},
   "cell_type": "markdown",
   "metadata": {},
   "source": [
    "#### Ciclo While \n",
    "Se utiliza para repetir un bloque de código mientras se cumpla una condición. La estructura básica es la siguiente:\n"
   ]
  },
  {
   "cell_type": "code",
   "execution_count": null,
   "metadata": {},
   "outputs": [],
   "source": [
    "while condicion:\n",
    "    # Código que se ejecuta mientras la condición sea verdadera"
   ]
  },
  {
   "attachments": {},
   "cell_type": "markdown",
   "metadata": {},
   "source": [
    "La condición se evalúa al comienzo de cada iteración del ciclo. Si es verdadera, se ejecuta el código dentro del bloque while. Si es falsa, el ciclo termina y la ejecución continúa con la siguiente instrucción.\n",
    "\n",
    "Es importante tener en cuenta que si la condición siempre es verdadera, el ciclo se repetirá infinitamente, lo que puede provocar que el programa se bloquee. Por lo tanto, es importante asegurarse de que la condición se vuelva falsa en algún momento. Ej:"
   ]
  },
  {
   "cell_type": "code",
   "execution_count": null,
   "metadata": {},
   "outputs": [],
   "source": [
    "numero = 1\n",
    "\n",
    "while numero <= 5:\n",
    "    print(numero)\n",
    "    numero += 1"
   ]
  },
  {
   "attachments": {},
   "cell_type": "markdown",
   "metadata": {},
   "source": [
    "También se puede utilizar las sentencias break y continue para controlar el flujo del ciclo while.\n",
    "\n",
    "La sentencia **break** se utiliza para salir del ciclo while prematuramente si se cumple alguna condición. La ejecución del programa continúa con la siguiente instrucción después del bloque while.\n",
    "\n",
    "La sentencia **continue** se utiliza para omitir una iteración del ciclo while si se cumple alguna condición. La ejecución del ciclo continúa con la siguiente iteración."
   ]
  },
  {
   "cell_type": "code",
   "execution_count": null,
   "metadata": {},
   "outputs": [],
   "source": [
    "numero = 1\n",
    "\n",
    "while numero <= 10:\n",
    "    if numero == 5:\n",
    "        numero += 1\n",
    "        continue\n",
    "    elif numero == 8:\n",
    "        break\n",
    "    print(numero)\n",
    "    numero += 1"
   ]
  },
  {
   "attachments": {},
   "cell_type": "markdown",
   "metadata": {},
   "source": [
    "#### Ciclo For\n",
    "Se utiliza para iterar sobre una secuencia (como una lista, tupla o cadena de caracteres) o sobre cualquier objeto iterable en Python. La estructura básica es la siguiente:"
   ]
  },
  {
   "cell_type": "code",
   "execution_count": null,
   "metadata": {},
   "outputs": [],
   "source": [
    "for variable in secuencia:\n",
    "    # Código que se ejecuta para cada elemento de la secuencia"
   ]
  },
  {
   "attachments": {},
   "cell_type": "markdown",
   "metadata": {},
   "source": [
    "La variable variable toma el valor de cada elemento de la secuencia en cada iteración del ciclo. El código dentro del ciclo se ejecuta para cada valor de variable.\n",
    "\n",
    "Ejemplo de un ciclo for que imprime los elementos de una lista:"
   ]
  },
  {
   "cell_type": "code",
   "execution_count": null,
   "metadata": {},
   "outputs": [],
   "source": [
    "lista = [\"manzana\", \"banana\", \"cereza\"]\n",
    "\n",
    "for fruta in lista:\n",
    "    print(fruta)"
   ]
  },
  {
   "attachments": {},
   "cell_type": "markdown",
   "metadata": {},
   "source": [
    "El ciclo For tambipén puede usar las sentencias break y continue para controlar el flujo."
   ]
  },
  {
   "attachments": {},
   "cell_type": "markdown",
   "metadata": {},
   "source": [
    "### Colecciones"
   ]
  },
  {
   "attachments": {},
   "cell_type": "markdown",
   "metadata": {},
   "source": [
    "#### Listas\n",
    "Una lista es una colección ordenada y mutable de elementos en Python. Los elementos de una lista pueden ser de diferentes tipos, y se pueden agregar, eliminar y modificar en cualquier momento. Las listas se definen utilizando corchetes [], y los elementos se separan por comas."
   ]
  },
  {
   "cell_type": "code",
   "execution_count": null,
   "metadata": {},
   "outputs": [],
   "source": [
    "# Ejemplo de lista\n",
    "mi_lista = [1, \"hola\", 3.14, True]"
   ]
  },
  {
   "attachments": {},
   "cell_type": "markdown",
   "metadata": {},
   "source": [
    "Para acceder a los elementos de una lista, se utiliza la indexación con corchetes. El primer elemento de la lista tiene un índice de 0, el segundo elemento tiene un índice de 1, y así sucesivamente."
   ]
  },
  {
   "cell_type": "code",
   "execution_count": null,
   "metadata": {},
   "outputs": [],
   "source": [
    "# Acceder a un elemento de la lista\n",
    "mi_lista = [1, \"hola\", 3.14, True]\n",
    "print(mi_lista[1])  # Imprime \"hola\""
   ]
  },
  {
   "attachments": {},
   "cell_type": "markdown",
   "metadata": {},
   "source": [
    "Para agregar un elemento al final de una lista, se utiliza el método append(). También se puede agregar varios elementos a la vez utilizando el método extend() o el operador +=."
   ]
  },
  {
   "cell_type": "code",
   "execution_count": null,
   "metadata": {},
   "outputs": [],
   "source": [
    "mi_lista = [1, 2, 3]\n",
    "mi_lista.append(4)\n",
    "print(mi_lista)  # Imprime [1, 2, 3, 4]\n",
    "\n",
    "mi_lista = [1, 2, 3]\n",
    "mi_lista.extend([4, 5, 6])\n",
    "print(mi_lista)  # Imprime [1, 2, 3, 4, 5, 6]\n",
    "\n",
    "mi_lista = [1, 2, 3]\n",
    "mi_lista += [4, 5, 6]\n",
    "print(mi_lista)  # Imprime [1, 2, 3, 4, 5, 6]"
   ]
  },
  {
   "attachments": {},
   "cell_type": "markdown",
   "metadata": {},
   "source": [
    "Para agregar un elemento en una posición específica de la lista, se utiliza el método insert()."
   ]
  },
  {
   "cell_type": "code",
   "execution_count": null,
   "metadata": {},
   "outputs": [],
   "source": [
    "mi_lista = [1, 2, 3]\n",
    "mi_lista.insert(1, \"hola\")\n",
    "print(mi_lista)  # Imprime [1, \"hola\", 2, 3]"
   ]
  },
  {
   "attachments": {},
   "cell_type": "markdown",
   "metadata": {},
   "source": [
    "ara eliminar un elemento de una lista, se utiliza el método remove() o la sentencia del. También se puede eliminar el último elemento de la lista utilizando el método pop()."
   ]
  },
  {
   "cell_type": "code",
   "execution_count": null,
   "metadata": {},
   "outputs": [],
   "source": [
    "mi_lista = [1, 2, 3, 4]\n",
    "mi_lista.remove(3)\n",
    "print(mi_lista)  # Imprime [1, 2, 4]\n",
    "\n",
    "mi_lista = [1, 2, 3, 4]\n",
    "del mi_lista[2]\n",
    "print(mi_lista)  # Imprime [1, 2, 4]\n",
    "\n",
    "mi_lista = [1, 2, 3, 4]\n",
    "mi_lista.pop()\n",
    "print(mi_lista)  # Imprime [1, 2, 3"
   ]
  },
  {
   "attachments": {},
   "cell_type": "markdown",
   "metadata": {},
   "source": [
    "Para modificar un elemento de una lista, se utiliza la indexación con corchetes."
   ]
  },
  {
   "cell_type": "code",
   "execution_count": null,
   "metadata": {},
   "outputs": [],
   "source": [
    "mi_lista = [1, 2, 3]\n",
    "mi_lista[1] = \"hola\"\n",
    "print(mi_lista)  # Imprime [1, \"hola\", 3]"
   ]
  },
  {
   "attachments": {},
   "cell_type": "markdown",
   "metadata": {},
   "source": [
    "#### Tuplas\n",
    "Una tupla es una colección ordenada e inmutable de elementos en Python. Los elementos de una tupla pueden ser de diferentes tipos, pero no se pueden agregar, eliminar o modificar después de haber sido creados. Las tuplas se definen utilizando paréntesis (), y los elementos se separan por comas."
   ]
  },
  {
   "cell_type": "code",
   "execution_count": null,
   "metadata": {},
   "outputs": [],
   "source": [
    "# Ejemplo de tupla\n",
    "mi_tupla = (1, \"hola\", 3.14, True)"
   ]
  },
  {
   "attachments": {},
   "cell_type": "markdown",
   "metadata": {},
   "source": [
    "Para acceder a los elementos de una tupla, se utiliza la indexación con corchetes, de la misma manera que para las listas."
   ]
  },
  {
   "cell_type": "code",
   "execution_count": null,
   "metadata": {},
   "outputs": [],
   "source": [
    "# Acceder a un elemento de la tupla\n",
    "mi_tupla = (1, \"hola\", 3.14, True)\n",
    "print(mi_tupla[2])  # Imprime 3.14"
   ]
  },
  {
   "attachments": {},
   "cell_type": "markdown",
   "metadata": {},
   "source": [
    "Como ya se mencionó, las tuplas son inmutables por lo que no se pueden modificar una vez creadas. Sin embargo, se puede acceder a sus elementos mediante la indexación con corchetes."
   ]
  },
  {
   "cell_type": "code",
   "execution_count": null,
   "metadata": {},
   "outputs": [],
   "source": [
    "mi_tupla = (1, 2, 3)\n",
    "print(mi_tupla[1])  # Imprime 2"
   ]
  },
  {
   "attachments": {},
   "cell_type": "markdown",
   "metadata": {},
   "source": [
    "#### Conjuntos\n",
    "Un conjunto es una colección no ordenada y mutable de elementos en Python. Los elementos de un conjunto deben ser únicos (no se pueden repetir), y se pueden agregar y eliminar en cualquier momento. Los conjuntos se definen utilizando llaves {}, o utilizando la función set()."
   ]
  },
  {
   "cell_type": "code",
   "execution_count": null,
   "metadata": {},
   "outputs": [],
   "source": [
    "# Ejemplo de conjunto\n",
    "mi_conjunto = {1, 2, 3, 4}"
   ]
  },
  {
   "attachments": {},
   "cell_type": "markdown",
   "metadata": {},
   "source": [
    "Para acceder a los elementos de un conjunto, se utiliza un bucle for o se convierte a una lista o tupla."
   ]
  },
  {
   "cell_type": "code",
   "execution_count": null,
   "metadata": {},
   "outputs": [],
   "source": [
    "# Convertir un conjunto a una lista\n",
    "mi_conjunto = {1, 2, 3, 4}\n",
    "mi_lista = list(mi_conjunto)\n",
    "print(mi_lista)  # Imprime [1, 2, 3, 4]"
   ]
  },
  {
   "attachments": {},
   "cell_type": "markdown",
   "metadata": {},
   "source": [
    "Para agregar un elemento a un conjunto, se utiliza el método add()."
   ]
  },
  {
   "cell_type": "code",
   "execution_count": null,
   "metadata": {},
   "outputs": [],
   "source": [
    "mi_conjunto = {1, 2, 3}\n",
    "mi_conjunto.add(4)\n",
    "print(mi_conjunto)  # Imprime {1, 2, 3, 4}"
   ]
  },
  {
   "attachments": {},
   "cell_type": "markdown",
   "metadata": {},
   "source": [
    "Para eliminar un elemento de un conjunto, se utiliza el método remove() o discard()."
   ]
  },
  {
   "cell_type": "code",
   "execution_count": null,
   "metadata": {},
   "outputs": [],
   "source": [
    "mi_conjunto = {1, 2, 3, 4}\n",
    "mi_conjunto.remove(3)\n",
    "print(mi_conjunto)  # Imprime {1, 2, 4}\n",
    "\n",
    "mi_conjunto = {1, 2, 3, 4}\n",
    "mi_conjunto.discard(5)  # No produce error si el elemento no está en el conjunto\n",
    "print(mi_conjunto)  # Imprime {1, 2, 3, 4}"
   ]
  },
  {
   "attachments": {},
   "cell_type": "markdown",
   "metadata": {},
   "source": [
    "#### Diccionario\n",
    "Un diccionario es una colección no ordenada y mutable de pares clave-valor en Python. Las claves de un diccionario deben ser únicas, y los valores pueden ser de diferentes tipos. Los diccionarios se definen utilizando llaves {}, y los pares clave-valor se separan por dos puntos : y se separan entre sí por comas."
   ]
  },
  {
   "cell_type": "code",
   "execution_count": null,
   "metadata": {},
   "outputs": [],
   "source": [
    "# Ejemplo de diccionario\n",
    "mi_diccionario = {\"nombre\": \"Juan\", \"edad\": 30, \"profesion\": \"programador\"}"
   ]
  },
  {
   "attachments": {},
   "cell_type": "markdown",
   "metadata": {},
   "source": [
    "Para acceder a los valores de un diccionario, se utiliza la clave correspondiente."
   ]
  },
  {
   "cell_type": "code",
   "execution_count": 14,
   "metadata": {},
   "outputs": [
    {
     "data": {
      "text/plain": [
       "'Juan'"
      ]
     },
     "execution_count": 14,
     "metadata": {},
     "output_type": "execute_result"
    }
   ],
   "source": [
    "# Acceder al valor de un diccionario\n",
    "mi_diccionario = {\"nombre\": \"Juan\", \"edad\": 30, \"profesion\": \"programador\"}\n",
    "mi_diccionario[\"nombre\"]  # Imprime \"Juan\"\n"
   ]
  },
  {
   "attachments": {},
   "cell_type": "markdown",
   "metadata": {},
   "source": [
    "Para agregar un elemento a un diccionario, se utiliza la asignación con corchetes."
   ]
  },
  {
   "cell_type": "code",
   "execution_count": null,
   "metadata": {},
   "outputs": [],
   "source": [
    "mi_diccionario = {\"nombre\": \"Juan\", \"apellido\": \"Pérez\"}\n",
    "mi_diccionario[\"edad\"] = 30\n",
    "print(mi_diccionario)  # Imprime {\"nombre\": \"Juan\", \"apellido\": \"Pérez\", \"edad\": 30}"
   ]
  },
  {
   "attachments": {},
   "cell_type": "markdown",
   "metadata": {},
   "source": [
    "Para eliminar un elemento de un diccionario, se utiliza la sentencia del."
   ]
  },
  {
   "cell_type": "code",
   "execution_count": null,
   "metadata": {},
   "outputs": [],
   "source": [
    "mi_diccionario = {\"nombre\": \"Juan\", \"apellido\": \"Pérez\", \"edad\": 30}\n",
    "del mi_diccionario[\"edad\"]\n",
    "print(mi_diccionario)  # Imprime {\"nombre\": \"Juan\", \"apellido\": \"Pérez\"}"
   ]
  },
  {
   "attachments": {},
   "cell_type": "markdown",
   "metadata": {},
   "source": [
    "Para modificar el valor de un elemento de un diccionario, se utiliza la asignación con corchetes."
   ]
  },
  {
   "cell_type": "code",
   "execution_count": null,
   "metadata": {},
   "outputs": [],
   "source": [
    "mi_diccionario = {\"nombre\": \"Juan\", \"apellido\": \"Pérez\", \"edad\": 30}\n",
    "mi_diccionario[\"edad\"] = 40\n",
    "print(mi_diccionario)  # Imprime {\"nombre\": \"Juan\", \"apellido\": \"Pérez\", \"edad\": 40}"
   ]
  },
  {
   "attachments": {},
   "cell_type": "markdown",
   "metadata": {},
   "source": [
    "### Uso de Funciones"
   ]
  },
  {
   "attachments": {},
   "cell_type": "markdown",
   "metadata": {},
   "source": [
    "Una función es un bloque de código que realiza una tarea específica y puede ser llamado desde cualquier parte del programa. Las funciones son útiles para dividir un programa en tareas más pequeñas y manejables, lo que hace que el código sea más fácil de entender y mantener.\n",
    "\n",
    "Para crear una función en Python, se utiliza la palabra clave \"def\" seguida del nombre de la función y los parámetros (si los hay) entre paréntesis. El cuerpo de la función se escribe debajo, indentado con cuatro espacios. Por ejemplo, la siguiente función suma dos números:"
   ]
  },
  {
   "cell_type": "code",
   "execution_count": null,
   "metadata": {},
   "outputs": [],
   "source": [
    "def suma(a, b):\n",
    "    resultado = a + b\n",
    "    return resultado\n",
    "\n",
    "resultado = suma(3, 5)\n",
    "print(resultado)  # Imprime 8"
   ]
  },
  {
   "attachments": {},
   "cell_type": "markdown",
   "metadata": {},
   "source": [
    "Es importante destacar que los parámetros de una función en Python pueden ser opcionales. En ese caso, se les puede asignar un valor predeterminado en la declaración de la función. Por ejemplo:"
   ]
  },
  {
   "cell_type": "code",
   "execution_count": null,
   "metadata": {},
   "outputs": [],
   "source": [
    "def saludo(nombre, saludo=\"Hola\"):\n",
    "    print(saludo + \", \" + nombre)"
   ]
  },
  {
   "attachments": {},
   "cell_type": "markdown",
   "metadata": {},
   "source": [
    "En este ejemplo, la función \"saludo\" toma un parámetro \"nombre\" y un parámetro opcional \"saludo\". Si el parámetro \"saludo\" no se proporciona al llamar a la función, se utilizará el valor predeterminado \"Hola\"."
   ]
  },
  {
   "attachments": {},
   "cell_type": "markdown",
   "metadata": {},
   "source": [
    "Por otro lado para pasar argumentos variables en una función, o sea, que se desconoce el número de argumentos se usa *args o *a. No necesariamente son esas, puede ser con el * anteponiendolo, por lo que se convierte en una tupla. Ej:"
   ]
  },
  {
   "cell_type": "code",
   "execution_count": null,
   "metadata": {},
   "outputs": [],
   "source": [
    "def ejemplo(*nombres):\n",
    "    for nombre in nombres:\n",
    "        print(nombre)\n",
    "\n",
    "ejemplo(\"Juan\", \"Pedro\", \"María\")  # Imprime \"Juan\", \"Pedro\", \"María\""
   ]
  },
  {
   "attachments": {},
   "cell_type": "markdown",
   "metadata": {},
   "source": [
    "Por otra parte, para pasar un diccionario, o sea, términos \"llave valor\", en este caso se anteponen dos asteriscos, normalmente se usa **kwargs o **kw, pero nuevamente no es necesario este nombre. Ej:"
   ]
  },
  {
   "cell_type": "code",
   "execution_count": null,
   "metadata": {},
   "outputs": [],
   "source": [
    "def terminos(**terminos):\n",
    "    for llave, valor in terminos.items():\n",
    "        print(f'{llave}: {valor}')\n",
    "\n",
    "terminos(nombre=\"Juan\", apellido=\"Pérez\", edad=30)  # Imprime \"nombre: Juan\", \"apellido: Pérez\", \"edad: 30\""
   ]
  }
 ],
 "metadata": {
  "kernelspec": {
   "display_name": "Python 3",
   "language": "python",
   "name": "python3"
  },
  "language_info": {
   "codemirror_mode": {
    "name": "ipython",
    "version": 3
   },
   "file_extension": ".py",
   "mimetype": "text/x-python",
   "name": "python",
   "nbconvert_exporter": "python",
   "pygments_lexer": "ipython3",
   "version": "3.11.3"
  },
  "orig_nbformat": 4
 },
 "nbformat": 4,
 "nbformat_minor": 2
}
