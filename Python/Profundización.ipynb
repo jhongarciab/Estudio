{
 "cells": [
  {
   "attachments": {},
   "cell_type": "markdown",
   "metadata": {},
   "source": [
    "<h1 align=\"center\">Profundización en Python</h1> "
   ]
  },
  {
   "attachments": {},
   "cell_type": "markdown",
   "metadata": {},
   "source": [
    "### Tipos de datos"
   ]
  },
  {
   "attachments": {},
   "cell_type": "markdown",
   "metadata": {},
   "source": [
    "#### Sistemas de numeración"
   ]
  },
  {
   "attachments": {},
   "cell_type": "markdown",
   "metadata": {},
   "source": [
    "Un sistema de numeración se refiere a la forma en que se representan los números. El sistema de numeración más comúnmente utilizado en Python es el sistema de numeración decimal, que utiliza la base 10 y los dígitos del 0 al 9 para representar todos los números. Sin embargo, Python también es capaz de trabajar con otros sistemas de numeración, como el sistema binario, octal y hexadecimal.\n",
    "\n",
    "El sistema binario utiliza solo dos dígitos, 0 y 1, y se utiliza en la electrónica y la informática para representar valores booleanos y manipular datos en forma de bits. El sistema octal utiliza 8 dígitos, del 0 al 7, y se utiliza en algunas aplicaciones informáticas. El sistema hexadecimal utiliza 16 dígitos, del 0 al 9 y de la A a la F, y se utiliza comúnmente en informática para representar valores de colores y direcciones de memoria."
   ]
  },
  {
   "attachments": {},
   "cell_type": "markdown",
   "metadata": {},
   "source": [
    "##### Decimal"
   ]
  },
  {
   "cell_type": "code",
   "execution_count": 1,
   "metadata": {},
   "outputs": [
    {
     "name": "stdout",
     "output_type": "stream",
     "text": [
      "a: 10\n"
     ]
    }
   ],
   "source": [
    "a = 10\n",
    "print(f'a: {a}')"
   ]
  },
  {
   "attachments": {},
   "cell_type": "markdown",
   "metadata": {},
   "source": [
    "##### Binario"
   ]
  },
  {
   "cell_type": "code",
   "execution_count": 2,
   "metadata": {},
   "outputs": [
    {
     "name": "stdout",
     "output_type": "stream",
     "text": [
      "a: 10\n"
     ]
    }
   ],
   "source": [
    "a = 0b1010\n",
    "print(f'a: {a}')"
   ]
  },
  {
   "attachments": {},
   "cell_type": "markdown",
   "metadata": {},
   "source": [
    "##### Octal"
   ]
  },
  {
   "cell_type": "code",
   "execution_count": 3,
   "metadata": {},
   "outputs": [
    {
     "name": "stdout",
     "output_type": "stream",
     "text": [
      "a: 10\n"
     ]
    }
   ],
   "source": [
    "a = 0o12\n",
    "print(f'a: {a}')"
   ]
  },
  {
   "attachments": {},
   "cell_type": "markdown",
   "metadata": {},
   "source": [
    "##### Hexadecimal"
   ]
  },
  {
   "cell_type": "code",
   "execution_count": 5,
   "metadata": {},
   "outputs": [
    {
     "name": "stdout",
     "output_type": "stream",
     "text": [
      "a: 11\n"
     ]
    }
   ],
   "source": [
    "a = 0xA\n",
    "print(f'a: {a}')"
   ]
  },
  {
   "attachments": {},
   "cell_type": "markdown",
   "metadata": {},
   "source": [
    "Se puede convertir de un sistema a otro con las funciones `bin()`, `oct()` y `hex()`. Ej:"
   ]
  },
  {
   "cell_type": "code",
   "execution_count": 6,
   "metadata": {},
   "outputs": [
    {
     "name": "stdout",
     "output_type": "stream",
     "text": [
      "bin_a: 0b1010\n"
     ]
    }
   ],
   "source": [
    "a = 10\n",
    "bin_a = bin(a)\n",
    "print(f'bin_a: {bin_a}')"
   ]
  },
  {
   "attachments": {},
   "cell_type": "markdown",
   "metadata": {},
   "source": [
    "Por otro lado, en cuanto al tipo float se trata, se le puede especificar el número de decimales que queremos que sean impresos. Ej:"
   ]
  },
  {
   "cell_type": "code",
   "execution_count": 8,
   "metadata": {},
   "outputs": [
    {
     "name": "stdout",
     "output_type": "stream",
     "text": [
      "a: 3.1\n"
     ]
    }
   ],
   "source": [
    "a = 3.123\n",
    "print(f'a: {a:.1f}')"
   ]
  },
  {
   "attachments": {},
   "cell_type": "markdown",
   "metadata": {},
   "source": [
    "##### Valores Infinitos"
   ]
  },
  {
   "attachments": {},
   "cell_type": "markdown",
   "metadata": {},
   "source": [
    "Para definir valores infinitos se usa la clase float junto con el método `inf`. Una segunda forma es usando la librería math. Y la tercera partiendo del módulo decimal. Dejando claro que hay más formas de hacerlo."
   ]
  },
  {
   "cell_type": "code",
   "execution_count": 5,
   "metadata": {},
   "outputs": [
    {
     "name": "stdout",
     "output_type": "stream",
     "text": [
      "infinito positivo: inf\n",
      "infinito negativo: -inf\n",
      "infinito positivo: inf\n",
      "infinito negativo: -inf\n",
      "infinito positivo: Infinity\n",
      "infinito negativo: -Infinity\n"
     ]
    }
   ],
   "source": [
    "from decimal import Decimal\n",
    "import math\n",
    "\n",
    "infinito_positivo = float('inf')\n",
    "infinito_negativo = float('-inf')\n",
    "print(f'infinito positivo: {infinito_positivo}')\n",
    "print(f'infinito negativo: {infinito_negativo}')\n",
    "\n",
    "infinito_p = math.inf\n",
    "infinito_n = -math.inf\n",
    "print(f'infinito positivo: {infinito_p}')\n",
    "print(f'infinito negativo: {infinito_n}')\n",
    "\n",
    "infinito_pos = Decimal('Infinity')\n",
    "infinito_neg = Decimal('-Infinity')\n",
    "print(f'infinito positivo: {infinito_pos}')\n",
    "print(f'infinito negativo: {infinito_neg}')"
   ]
  },
  {
   "attachments": {},
   "cell_type": "markdown",
   "metadata": {},
   "source": [
    "##### Tipo NaN"
   ]
  },
  {
   "attachments": {},
   "cell_type": "markdown",
   "metadata": {},
   "source": [
    "El tipo NaN (Not a Number), no es necesario escribirlo en mayúsculas, podría usarse nan, NAN o cualquier variación de la misma. Se puede definir de la siguiente forma:"
   ]
  },
  {
   "cell_type": "code",
   "execution_count": 11,
   "metadata": {},
   "outputs": [
    {
     "name": "stdout",
     "output_type": "stream",
     "text": [
      "a: nan\n",
      "¿Es a un NaN?: True\n",
      "a: 1\n",
      "¿Es a un NaN?: False\n"
     ]
    }
   ],
   "source": [
    "import math\n",
    "a = float('NaN')\n",
    "print(f'a: {a}')\n",
    "print(f'¿Es a un NaN?: {math.isnan(a)}')\n",
    "\n",
    "#También usando el módulo decimal\n",
    "from decimal import Decimal\n",
    "a = Decimal('1')\n",
    "print(f'a: {a}')\n",
    "print(f'¿Es a un NaN?: {math.isnan(a)}')"
   ]
  },
  {
   "attachments": {},
   "cell_type": "markdown",
   "metadata": {},
   "source": [
    "##### Tipo Booleano"
   ]
  },
  {
   "attachments": {},
   "cell_type": "markdown",
   "metadata": {},
   "source": [
    "En este caso es para saber en qué casos se obtienen valoress de True o False. \n",
    "\n",
    "Para tipos numéricos returna False para 0, True para cualquier otro valor incluyendo cualquier valor, sea flotante, entero, etc.\n",
    "\n",
    "En cuando a tipos str, es False para cadenas vacías ('') y True para cualquier otro valor. Mismo caso para el caso de las colecciones, diccionarios y tuplas, si es vacía regresa False y True para cualquier otro valor."
   ]
  },
  {
   "cell_type": "code",
   "execution_count": 18,
   "metadata": {},
   "outputs": [
    {
     "name": "stdout",
     "output_type": "stream",
     "text": [
      "Valor: 0\n",
      "Resultado: False\n",
      "Valor: 2.13\n",
      "Resultado: True\n",
      "Valor: \n",
      "Resultado: False\n",
      "Valor: Hola\n",
      "Resultado: True\n",
      "Valor: []\n",
      "Resultado: False\n",
      "Valor: [1, 2, 3]\n",
      "Resultado: True\n",
      "Valor: ()\n",
      "Resultado: False\n",
      "Valor: (1, 2, 3)\n",
      "Resultado: True\n",
      "Valor: {}\n",
      "Resultado: False\n",
      "Valor: {'a': 1, 'b': 2}\n",
      "Resultado: True\n"
     ]
    }
   ],
   "source": [
    "#Numérico\n",
    "valor = 0\n",
    "resultado = bool(valor)\n",
    "print(f'Valor: {valor}')\n",
    "print(f'Resultado: {resultado}')\n",
    "\n",
    "valor = 2.13\n",
    "resultado = bool(valor)\n",
    "print(f'Valor: {valor}')\n",
    "print(f'Resultado: {resultado}')\n",
    "\n",
    "#Str\n",
    "valor = ''\n",
    "resultado = bool(valor)\n",
    "print(f'Valor: {valor}')\n",
    "print(f'Resultado: {resultado}')\n",
    "\n",
    "valor = 'Hola'\n",
    "resultado = bool(valor)\n",
    "print(f'Valor: {valor}')\n",
    "print(f'Resultado: {resultado}')\n",
    "\n",
    "#Listas\n",
    "valor = []\n",
    "resultado = bool(valor)\n",
    "print(f'Valor: {valor}')\n",
    "print(f'Resultado: {resultado}')\n",
    "\n",
    "valor = [1, 2, 3]\n",
    "resultado = bool(valor)\n",
    "print(f'Valor: {valor}')\n",
    "print(f'Resultado: {resultado}')\n",
    "\n",
    "#Tuplas\n",
    "valor = ()\n",
    "resultado = bool(valor)\n",
    "print(f'Valor: {valor}')\n",
    "print(f'Resultado: {resultado}')\n",
    "\n",
    "valor = (1, 2, 3)\n",
    "resultado = bool(valor)\n",
    "print(f'Valor: {valor}')\n",
    "print(f'Resultado: {resultado}')\n",
    "\n",
    "#Diccionarios\n",
    "valor = {}\n",
    "resultado = bool(valor)\n",
    "print(f'Valor: {valor}')\n",
    "print(f'Resultado: {resultado}')\n",
    "\n",
    "valor = {'a': 1, 'b': 2}\n",
    "resultado = bool(valor)\n",
    "print(f'Valor: {valor}')\n",
    "print(f'Resultado: {resultado}')"
   ]
  },
  {
   "attachments": {},
   "cell_type": "markdown",
   "metadata": {},
   "source": [
    "### Manejo de Strings"
   ]
  },
  {
   "attachments": {},
   "cell_type": "markdown",
   "metadata": {},
   "source": [
    "Hasta ahora teníamos que las cadenas se concatenaban con el símbolo '+', cosa que también se puede hacer sin necesidad del símbolo, pero, no es posible concatenar con una variable de tipo int, float, etc."
   ]
  },
  {
   "cell_type": "code",
   "execution_count": 20,
   "metadata": {},
   "outputs": [
    {
     "name": "stdout",
     "output_type": "stream",
     "text": [
      "mensaje: Holamundo\n",
      "mensaje: Holamundo\n"
     ]
    }
   ],
   "source": [
    "mensaje = 'Hola' + 'mundo'\n",
    "print(f'mensaje: {mensaje}')\n",
    "mensaje = 'Hola' 'mundo'\n",
    "print(f'mensaje: {mensaje}')"
   ]
  }
 ],
 "metadata": {
  "kernelspec": {
   "display_name": "Python 3",
   "language": "python",
   "name": "python3"
  },
  "language_info": {
   "codemirror_mode": {
    "name": "ipython",
    "version": 3
   },
   "file_extension": ".py",
   "mimetype": "text/x-python",
   "name": "python",
   "nbconvert_exporter": "python",
   "pygments_lexer": "ipython3",
   "version": "3.11.3"
  },
  "orig_nbformat": 4
 },
 "nbformat": 4,
 "nbformat_minor": 2
}
