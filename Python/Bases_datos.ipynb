{
 "cells": [
  {
   "cell_type": "markdown",
   "metadata": {},
   "source": [
    "<h1 align=\"center\">Bases de Datos con Python y PostgreSQL</h1> "
   ]
  },
  {
   "attachments": {},
   "cell_type": "markdown",
   "metadata": {},
   "source": [
    "PostgreSQL es un sistema de gestión de bases de datos relacionales (RDBMS) de código abierto, que ofrece una gran cantidad de características y opciones para el almacenamiento y procesamiento de datos. Es muy popular entre los desarrolladores y se utiliza en una amplia variedad de aplicaciones, desde pequeñas aplicaciones de escritorio hasta grandes sistemas de gestión de datos empresariales."
   ]
  },
  {
   "attachments": {},
   "cell_type": "markdown",
   "metadata": {},
   "source": [
    "### Conexión a Base de Datos"
   ]
  },
  {
   "attachments": {},
   "cell_type": "markdown",
   "metadata": {},
   "source": [
    "Para conectarte a una base de datos PostgreSQL desde Python, puedes utilizar la biblioteca psycopg2. Para instalarla, puedes utilizar el siguiente comando en una terminal:"
   ]
  },
  {
   "cell_type": "code",
   "execution_count": null,
   "metadata": {},
   "outputs": [],
   "source": [
    "pip install psycopg2-binary"
   ]
  },
  {
   "attachments": {},
   "cell_type": "markdown",
   "metadata": {},
   "source": [
    "A continuación, importa el paquete psycopg2 y se establece una conexión a la base de datos de PostgreSQL usando los detalles de conexión, como el host, la base de datos, el usuario y la contraseña."
   ]
  },
  {
   "cell_type": "code",
   "execution_count": null,
   "metadata": {},
   "outputs": [],
   "source": [
    "import psycopg2\n",
    "\n",
    "conexion = psycopg2.connect(\n",
    "    user=\"mi_usuario\",\n",
    "    password=\"mi_contraseña\",\n",
    "    host='127.0.0.1',\n",
    "    port='5432',\n",
    "    database=\"mi_base_de_datos\"\n",
    ")\n",
    "\n",
    "print(conexion) #<connection object at 0x0000020747C67890; dsn: 'user=postgres password=xxx dbname=Test_db host=127.0.0.1 port=5432', closed: 0>"
   ]
  },
  {
   "attachments": {},
   "cell_type": "markdown",
   "metadata": {},
   "source": [
    "Una vez concetado, es importante tener presente ciertas consultas básicas usadas. Es recomendable usar palabras reservadas en mayúscula. \n",
    "En este caso, \"persona\" es la base de datos creada.\n",
    "\n",
    "-Para recuperar información de la base de datos se usa:\n",
    "\n",
    "SELECT * FROM persona\n",
    "\n",
    "-Para limitar la cantidad de registros a ser mostrados:\n",
    "\n",
    "SELECT * FROM persona WHERE id_persona IN (rango)\n",
    "\n",
    "-Para insertar información:\n",
    "\n",
    "INSERT INTO persona(columnas a afectar separadas por ,) VALUES (valores que entrarán en las columnas entre '' y separadas por ,)\n",
    "Esto último, sigue un órden, por ende el primer valor de VALUES se asociará al primer valor de persona().\n",
    "\n",
    "-Para actualizar alguno de los registros:\n",
    "\n",
    "UPDATE persona SET 'columna a ser cambiada' = 'Nuevo nombre', 'otra columna' = 'xx' WHERE  id_persona=(rango)\n",
    "En este caso, la columna a ser cambiada no lleva comillas, pero lo que va a modificar sí, como también es importante indicar a qué registros se les va a hacer la actualización o se actualizarán todos.\n",
    "\n",
    "-Para eliminar un registro:\n",
    "\n",
    "DELETE FROM persona WHERE id_persona=(rango)\n",
    "En este caso también es importante señalar el \"where\" de caso contrario se eliminará todo."
   ]
  },
  {
   "attachments": {},
   "cell_type": "markdown",
   "metadata": {},
   "source": [
    "Como siguiente paso, creamos un cursor, a través del cual podemos ejecutar consultas SQL:"
   ]
  },
  {
   "cell_type": "code",
   "execution_count": null,
   "metadata": {},
   "outputs": [],
   "source": [
    "cursor = conexion.cursor()\n",
    "sentencia = 'SELECT * FROM persona'\n",
    "cursor.execute(sentencia) #Ejecuta la sentencia\n",
    "registros = cursor.fetchall() #Obtiene todos los registros\n",
    "print(registros) #Ej: [('Juan', 35), ('Karla', 37), ('Ricardo', 20)]\n",
    "\n",
    "cursor.close()\n",
    "conexion.close() #Cierra la conexión"
   ]
  },
  {
   "attachments": {},
   "cell_type": "markdown",
   "metadata": {},
   "source": [
    "### Uso de Python y PostgreSQL"
   ]
  },
  {
   "attachments": {},
   "cell_type": "markdown",
   "metadata": {},
   "source": [
    "El uso de with es una buena práctica ya que asegura que la conexión y el cursor se cierren correctamente al final de su uso, evitando así posibles errores o fugas de memoria."
   ]
  },
  {
   "cell_type": "code",
   "execution_count": null,
   "metadata": {},
   "outputs": [],
   "source": [
    "import psycopg2\n",
    "\n",
    "conexion = psycopg2.connect(\n",
    "    user=\"mi_usuario\",\n",
    "    password=\"mi_contraseña\",\n",
    "    host='127.0.0.1',\n",
    "    port='5432',\n",
    "    database=\"mi_base_de_datos\"\n",
    ")\n",
    "\n",
    "with conexion:\n",
    "    with conexion.cursor() as cursor:\n",
    "        sentencia = 'SELECT * FROM persona'\n",
    "        cursor.execute(sentencia)\n",
    "        registros = cursor.fetchall()\n",
    "        print(registros)"
   ]
  },
  {
   "attachments": {},
   "cell_type": "markdown",
   "metadata": {},
   "source": [
    "De esta manera, no hace falta usar el bloque de la conexión, ya que de eso se encarga el bloque with, sin embargo, es recomedable encasillar todo en un bloque try con finally para cerrar el objeto conexión."
   ]
  },
  {
   "cell_type": "code",
   "execution_count": null,
   "metadata": {},
   "outputs": [],
   "source": [
    "import psycopg2\n",
    "\n",
    "conexion = psycopg2.connect(\n",
    "    user=\"mi_usuario\",\n",
    "    password=\"mi_contraseña\",\n",
    "    host='127.0.0.1',\n",
    "    port='5432',\n",
    "    database=\"mi_base_de_datos\"\n",
    ")\n",
    "try:\n",
    "    with conexion:\n",
    "        with conexion.cursor() as cursor:\n",
    "            sentencia = 'SELECT * FROM persona'\n",
    "            cursor.execute(sentencia)\n",
    "            registros = cursor.fetchall()\n",
    "            print(registros)\n",
    "except Exception as e:\n",
    "    print(f'Ocurrió un error: {e}')\n",
    "finally:\n",
    "    conexion.close()"
   ]
  },
  {
   "attachments": {},
   "cell_type": "markdown",
   "metadata": {},
   "source": [
    "Por otra parte, para regresar un solo registro, teniendo en cuenta que fetchall recupera todo, lo que hacemos es cambiar la sentencia con las consultas básicas ya vistas\n",
    "\n",
    "sentencia = 'SELECT * FROM persona WHERE id_persona = 2'\n",
    "\n",
    "Esto puede ser más dinámico al usar parámetros denominados placeholder o parámetro posicional y se usa llamando '%s', para así sustituir el valor a ser llamado por una variable. En el ejemplo siguiente, se le pide al usuario que proporcione lo que quiera recuperar."
   ]
  },
  {
   "cell_type": "code",
   "execution_count": null,
   "metadata": {},
   "outputs": [],
   "source": [
    "\n",
    "try:\n",
    "    with conexion:\n",
    "        with conexion.cursor() as cursor:\n",
    "            sentencia = 'SELECT * FROM persona WHERE id_persona = %s'\n",
    "            entrada = input('Proporciona el id_persona: ') #Variable a ser llamada\n",
    "            cursor.execute(sentencia, (entrada,)) #Se debe enviar una tupla\n",
    "            registros = cursor.fetchall()\n",
    "            print(registros)\n",
    "except Exception as e:\n",
    "    print(f'Ocurrió un error: {e}')\n",
    "finally:\n",
    "    conexion.close()"
   ]
  },
  {
   "attachments": {},
   "cell_type": "markdown",
   "metadata": {},
   "source": [
    "Otro valor a tener en cuenta, es 'fetchone' que es un método que se utiliza para obtener una única fila de resultados de la consulta. Cada vez que se llama al método fetchone, se obtiene una nueva fila hasta que no haya más filas que recuperar. Esto es especialmente útil cuando se espera un conjunto grande de resultados y se quiere procesarlos uno a uno para ahorrar memoria.\n",
    "\n",
    "A diferencia con fetchall es que este es un método que se utiliza para obtener todas las filas que devuelve una consulta. Es decir, devuelve una lista con todas las filas obtenidas como resultado de la consulta. Este método es útil cuando se espera un conjunto relativamente pequeño de resultados.\n",
    "\n",
    "Por lo que  la principal diferencia entre fetchall y fetchone es que fetchall devuelve todas las filas obtenidas por la consulta como una lista, mientras que fetchone devuelve una sola fila cada vez que se llama al método."
   ]
  },
  {
   "attachments": {},
   "cell_type": "markdown",
   "metadata": {},
   "source": [
    "Ahora para insertar un registro, usamos la sintaxis ya mencionada pero cambiando la sentencia con las mencionadas anteriormente."
   ]
  },
  {
   "cell_type": "code",
   "execution_count": null,
   "metadata": {},
   "outputs": [],
   "source": [
    "import psycopg2\n",
    "\n",
    "conexion = psycopg2.connect(\n",
    "    user=\"mi_usuario\",\n",
    "    password=\"mi_contraseña\",\n",
    "    host='127.0.0.1',\n",
    "    port='5432',\n",
    "    database=\"mi_base_de_datos\"\n",
    ")\n",
    "try:\n",
    "    with conexion:\n",
    "        with conexion.cursor() as cursor:\n",
    "            sentencia = 'INSERT INTO persona(nombre, apellido, mail) VALUES(%s, %s, %s)'\n",
    "            valores = (\n",
    "                ('Jorge', 'Buitrago', 'jbui@mail.com'),\n",
    "                ('Angie', 'Alonso', 'alonso@mail.com'),\n",
    "                ('Roberto', 'Carlos', 'rcarlos@mail.com')\n",
    "            )\n",
    "            cursor.executemany(sentencia, valores)\n",
    "            registros_insertados = cursor.rowcount\n",
    "            print(f'Registros insertados: {registros_insertados}')  #Registros insertados: 3\n",
    "except Exception as e:\n",
    "    print(f'Ocurrió un error: {e}')\n",
    "finally:\n",
    "    conexion.close()"
   ]
  },
  {
   "attachments": {},
   "cell_type": "markdown",
   "metadata": {},
   "source": [
    "En el código anterior, como se está insertando información, a diferencia de las consultas básicas, se debe usar el método .commit() para guardar los cambios en la base de datos, en este caso no ya que el método 'with' lo hace. También usamos .rowcount para saber cuántas filas se han insertado y se cambia excute por executemany para insertar varios registros a la vez."
   ]
  },
  {
   "attachments": {},
   "cell_type": "markdown",
   "metadata": {},
   "source": [
    "Para actualizar registros, se usa la misma sintaxis que para insertar, pero se cambia la sentencia por UPDATE y se agrega el WHERE para indicar qué registros se van a actualizar."
   ]
  },
  {
   "cell_type": "code",
   "execution_count": null,
   "metadata": {},
   "outputs": [],
   "source": [
    "import psycopg2\n",
    "\n",
    "conexion = psycopg2.connect(\n",
    "    user=\"mi_usuario\",\n",
    "    password=\"mi_contraseña\",\n",
    "    host='127.0.0.1',\n",
    "    port='5432',\n",
    "    database=\"mi_base_de_datos\"\n",
    "try:\n",
    "    with conexion:\n",
    "        with conexion.cursor() as cursor:\n",
    "            sentencia = 'UPDATE persona SET nombre = %s, apellido = %s, mail = %s WHERE id_persona = %s'\n",
    "            valores = ('Andrés', 'Gómez', 'agomez@mail.com', 4)\n",
    "            cursor.execute(sentencia, valores)\n",
    "            registros_actualizados = cursor.rowcount\n",
    "            print(f'Registros actualizados: {registros_actualizados}')  #Registros insertados: 1\n",
    "except Exception as e:\n",
    "    print(f'Ocurrió un error: {e}')\n",
    "finally:\n",
    "    conexion.close()"
   ]
  },
  {
   "attachments": {},
   "cell_type": "markdown",
   "metadata": {},
   "source": [
    "No es necesario modificar todas las columnas, se puede modificar una sola columna o varias, pero siempre se debe indicar el WHERE para indicar qué registros se van a actualizar. Para actualizar varios registros a la vez, se usa el método executemany."
   ]
  },
  {
   "attachments": {},
   "cell_type": "markdown",
   "metadata": {},
   "source": [
    "Para eliminar registros, se usa la misma sintaxis que para actualizar, pero se cambia la sentencia por DELETE y se agrega el WHERE para indicar qué registros se van a eliminar."
   ]
  },
  {
   "cell_type": "code",
   "execution_count": null,
   "metadata": {},
   "outputs": [],
   "source": [
    "import psycopg2\n",
    "\n",
    "conexion = psycopg2.connect(\n",
    "    user=\"mi_usuario\",\n",
    "    password=\"mi_contraseña\",\n",
    "    host='127.0.0.1',\n",
    "    port='5432',\n",
    "    database=\"mi_base_de_datos\"\n",
    ")\n",
    "try:\n",
    "    with conexion:\n",
    "        with conexion.cursor() as cursor:\n",
    "            sentencia = 'DELETE FROM persona WHERE id_persona = %s'\n",
    "            valores = (1,)\n",
    "            cursor.execute(sentencia, valores)\n",
    "            registros_eliminados = cursor.rowcount\n",
    "            print(f'Registros eliminados: {registros_eliminados}')  #Registros insertados: 1\n",
    "except Exception as e:\n",
    "    print(f'Ocurrió un error: {e}')\n",
    "finally:\n",
    "    conexion.close()"
   ]
  },
  {
   "attachments": {},
   "cell_type": "markdown",
   "metadata": {},
   "source": [
    "Para eliminar varios registros a la vez, se usa el método executemany y recordar que es importante la tupla de tuplas. Ej: ((1,), (2,))"
   ]
  },
  {
   "attachments": {},
   "cell_type": "markdown",
   "metadata": {},
   "source": [
    "### Manejo de Transacciones"
   ]
  },
  {
   "attachments": {},
   "cell_type": "markdown",
   "metadata": {},
   "source": [
    " Las transacciones son un mecanismo para agrupar varias operaciones de bases de datos en una sola unidad lógica. Si una transacción completa con éxito todas sus operaciones, los cambios se aplican a la base de datos de manera permanente. Si una transacción falla, los cambios se revierten y la base de datos vuelve al estado anterior a la transacción."
   ]
  },
  {
   "cell_type": "code",
   "execution_count": null,
   "metadata": {},
   "outputs": [],
   "source": [
    "import psycopg2\n",
    "\n",
    "conexion = psycopg2.connect(\n",
    "    user=\"mi_usuario\",\n",
    "    password=\"mi_contraseña\",\n",
    "    host='127.0.0.1',\n",
    "    port='5432',\n",
    "    database=\"mi_base_de_datos\"\n",
    ")\n",
    "try:\n",
    "    conexion.autocommit = False\n",
    "\n",
    "    cursor = conexion.cursor()\n",
    "    sentencia = 'INSERT INTO persona(nombre, apellido, mail) VALUES(%s, %s, %s)'\n",
    "    valores = ('Carlos', 'Lara', 'clara@mail.com')\n",
    "    cursor.execute(sentencia, valores)\n",
    "\n",
    "    sentencia = 'UPDATE persona SET nombre = %s, apellido = %s, mail = %s WHERE id_persona = %s'\n",
    "    valores = ('Juan', 'Perez', 'jp@mail.com', 1)\n",
    "    cursor.execute(sentencia, valores)\n",
    "\n",
    "    conexion.commit()\n",
    "    print('Termina la transacción')\n",
    "except Exception as e:\n",
    "    conexion.rollback()\n",
    "    print(f'Ocurrió un error: {e}')\n",
    "finally:\n",
    "    conexion.close()"
   ]
  },
  {
   "attachments": {},
   "cell_type": "markdown",
   "metadata": {},
   "source": [
    "En este caso tenemos dos conceptos a tener el cuenta 'commit' y 'rollback'. Donde el commit confirma la transacción y el rollback la cancela. También se indica que los cambios no se guarden automáticamente, sino que se debe usar el método commit() para guardar los cambios en la base de datos, esto para tener un mayor control sobre las transacciones. Como anotación, si no se especifica el autocommit, por defecto se encuentra desactivado. También se puede ahorrar la configuración manual de commit, delegandolo al manejo de recursos 'with' y así se ejecuta el commit automáticamente al finalizar el bloque with. "
   ]
  },
  {
   "cell_type": "code",
   "execution_count": null,
   "metadata": {},
   "outputs": [],
   "source": [
    "import psycopg2\n",
    "\n",
    "conexion = psycopg2.connect(\n",
    "    user=\"mi_usuario\",\n",
    "    password=\"mi_contraseña\",\n",
    "    host='127.0.0.1',\n",
    "    port='5432',\n",
    "    database=\"mi_base_de_datos\"\n",
    ")\n",
    "try:\n",
    "    with conexion:\n",
    "        with conexion.cursor() as cursor:\n",
    "            sentencia = 'INSERT INTO persona(nombre, apellido, mail) VALUES(%s, %s, %s)'\n",
    "            valores = ('Carlos', 'Lara', 'clara@mail.com')\n",
    "            cursor.execute(sentencia, valores)\n",
    "\n",
    "            sentencia = 'UPDATE persona SET nombre = %s, apellido = %s, mail = %s WHERE id_persona = %s'\n",
    "            valores = ('Juan', 'Perez', 'jp@mail.com', 1)\n",
    "            cursor.execute(sentencia, valores)\n",
    "except Exception as e:\n",
    "    print(f'Ocurrió un error: {e}')\n",
    "finally:\n",
    "    conexion.close()"
   ]
  },
  {
   "attachments": {},
   "cell_type": "markdown",
   "metadata": {},
   "source": [
    "### Pool de Conexiones"
   ]
  },
  {
   "attachments": {},
   "cell_type": "markdown",
   "metadata": {},
   "source": [
    "Cuando trabajamos con bases de datos en Python, es común utilizar la biblioteca psycopg2 para conectarnos a una base de datos PostgreSQL. Sin embargo, cada vez que se realiza una conexión a la base de datos, se crea una nueva conexión y se cierra al finalizar la consulta. Si se realizan muchas consultas en un corto período de tiempo, esto puede llevar a una sobrecarga del servidor y ralentizar el rendimiento.\n",
    "\n",
    "Para evitar esto, se puede utilizar una pool de conexiones, que permite reutilizar las conexiones ya establecidas en lugar de crear nuevas conexiones cada vez."
   ]
  },
  {
   "cell_type": "code",
   "execution_count": null,
   "metadata": {},
   "outputs": [],
   "source": [
    "from psycopg2 import pool\n",
    "import sys\n",
    "\n",
    "class Conexion:\n",
    "    _DATABASE = 'Test_db'\n",
    "    _USERNAME = 'postgres'\n",
    "    _PASSWORD = 'Xevaxtiam1'\n",
    "    _DB_PORT = '5432'\n",
    "    _HOST = '127.0.0.1'\n",
    "    _minconn = 1\n",
    "    _maxconn = 5\n",
    "    _pool = None\n",
    "\n",
    "    @classmethod\n",
    "    def obtenerPool(cls):\n",
    "        if cls._pool is None:\n",
    "            try:\n",
    "                cls._pool = pool.SimpleConnectionPool(cls._minconn, cls._maxconn,\n",
    "                                                      host=cls._HOST,\n",
    "                                                      user=cls._USERNAME,\n",
    "                                                      password=cls._PASSWORD,\n",
    "                                                      port=cls._DB_PORT,\n",
    "                                                      database=cls._DATABASE) \n",
    "                print(f'Pool exitoso: {cls._pool}')\n",
    "                return cls._pool\n",
    "            except Exception as e:\n",
    "                print(f'Ocurrió un error al obtener el pool: {e}')\n",
    "                sys.exit()\n",
    "        else:\n",
    "            return cls._pool\n",
    "\n",
    "    @classmethod\n",
    "    def obtenerConexion(cls):\n",
    "        conexion = cls.obtenerPool().getconn()\n",
    "        print(f'Conexión exitosa: {conexion}')\n",
    "        return conexion\n",
    "        \n",
    "    @classmethod\n",
    "    def liberarConexion(cls, conexion):\n",
    "        cls.obtenerPool().putconn(conexion)\n",
    "        print(f'Conexión liberada: {conexion}')\n",
    "\n",
    "    @classmethod\n",
    "    def cerrarConexiones(cls):\n",
    "        cls.obtenerPool().closeall()\n",
    "        print(f'Conexiones cerradas')"
   ]
  },
  {
   "attachments": {},
   "cell_type": "markdown",
   "metadata": {},
   "source": [
    "En el ejemplo anterior, creamos una pool de conexiones con un mínimo de 1 conexión y un máximo de 10 conexiones. También proporcionamos los detalles de conexión a la base de datos, como el nombre de usuario, la contraseña, la dirección del servidor, el puerto, el nombre de la base de datos y con SimpleConnectionPool() se crea la pool de conexiones. También las líneas necesarias para liberar la conexión al finalizar la consulta, cerrar la conexión. "
   ]
  }
 ],
 "metadata": {
  "kernelspec": {
   "display_name": "Python 3",
   "language": "python",
   "name": "python3"
  },
  "language_info": {
   "name": "python",
   "version": "3.11.3"
  },
  "orig_nbformat": 4
 },
 "nbformat": 4,
 "nbformat_minor": 2
}
