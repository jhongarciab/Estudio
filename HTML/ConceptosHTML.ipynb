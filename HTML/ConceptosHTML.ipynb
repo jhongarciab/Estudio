{
 "cells": [
  {
   "attachments": {},
   "cell_type": "markdown",
   "metadata": {},
   "source": [
    "<h1 align=\"center\">Introducción a HTML</h1> "
   ]
  },
  {
   "attachments": {},
   "cell_type": "markdown",
   "metadata": {},
   "source": [
    "HTML (Hypertext Markup Language) es el lenguaje de marcado estándar utilizado para crear páginas web. HTML permite definir el contenido de una página web, como texto, imágenes, videos y enlaces, así como su estructura y estilo."
   ]
  },
  {
   "attachments": {},
   "cell_type": "markdown",
   "metadata": {},
   "source": [
    "#### Estructura básica de una página HTML"
   ]
  },
  {
   "attachments": {},
   "cell_type": "markdown",
   "metadata": {},
   "source": [
    "Toda página web comienza con una estructura básica de HTML, que consiste en las siguientes etiquetas:\n",
    "```html\n",
    "<!DOCTYPE html>\n",
    "<html>\n",
    "  <head>\n",
    "    <title>Título de la página</title>\n",
    "  </head>\n",
    "  <body>\n",
    "    Contenido de la página\n",
    "  </body>\n",
    "</html>\n",
    "```\n",
    "La primera línea indica el tipo de documento que se está utilizando. La etiqueta 'html' indica el comienzo de un documento HTML. El contenido de la página se encuentra dentro de las etiquetas 'head' y 'body'. La etiqueta 'head' contiene información sobre la página, como el título y los enlaces a hojas de estilo CSS. La etiqueta 'body' contiene el contenido de la página visible para el usuario."
   ]
  },
  {
   "attachments": {},
   "cell_type": "markdown",
   "metadata": {},
   "source": [
    "#### Etiquetas y atributos"
   ]
  },
  {
   "attachments": {},
   "cell_type": "markdown",
   "metadata": {},
   "source": [
    "Las etiquetas son los elementos fundamentales de HTML, y se utilizan para definir el contenido y la estructura de una página web. Algunos ejemplos de etiquetas comunes en HTML son:\n",
    "```html\n",
    "<html>: Define el comienzo del documento HTML.\n",
    "<head>: Define el encabezado del documento HTML.\n",
    "<title>: Define el título del documento HTML.\n",
    "<body>: Define el cuerpo del documento HTML.\n",
    "<h1> a <h6>: Define encabezados de diferentes tamaños.\n",
    "<p>: Define un párrafo.\n",
    "<a>: Define un hipervínculo.\n",
    "<img>: Define una imagen.\n",
    "```"
   ]
  },
  {
   "attachments": {},
   "cell_type": "markdown",
   "metadata": {},
   "source": [
    "Además de las etiquetas, HTML también utiliza atributos para proporcionar información adicional sobre cómo se deben mostrar los elementos en una página web. Algunos ejemplos de atributos comunes son:\n",
    "\n",
    "class: Permite aplicar una clase a un elemento, lo que puede utilizarse para aplicar estilos CSS específicos a ese elemento.\n",
    "\n",
    "id: Permite identificar de forma única un elemento, lo que puede utilizarse para aplicar estilos CSS específicos a ese elemento o para crear hipervínculos que apunten a ese elemento.\n",
    "\n",
    "href: Se utiliza con la etiqueta 'a' para especificar la URL a la que debe apuntar el hipervínculo.\n",
    "\n",
    "src: Se utiliza con las etiquetas de imagen ('img') y de audio ('audio') para especificar la URL de la imagen o del archivo de audio.\n",
    "\n",
    "style: Permite aplicar estilos CSS específicos a un elemento.\n",
    "\n",
    "target: Se utiliza con la etiqueta 'a' para especificar si el hipervínculo debe abrirse en una nueva ventana o en la misma ventana."
   ]
  },
  {
   "attachments": {},
   "cell_type": "markdown",
   "metadata": {},
   "source": [
    "#### Encabezados, párrafos y listas"
   ]
  },
  {
   "attachments": {},
   "cell_type": "markdown",
   "metadata": {},
   "source": [
    "##### Encabezados"
   ]
  },
  {
   "attachments": {},
   "cell_type": "markdown",
   "metadata": {},
   "source": [
    "Los encabezados son utilizados para resaltar el texto que inicia una sección o una subsección en un documento HTML. En total, existen seis niveles de encabezados, del nivel 1 al nivel 6, donde el nivel 1 es el más importante y el 6 el menos importante. Los encabezados se definen mediante las etiquetas h1, h2, h3, h4, h5 y h6.\n",
    "    \n",
    "```html\n",
    "<h1>Este es un encabezado de nivel 1</h1>\n",
    "<h2>Este es un encabezado de nivel 2</h2>\n",
    "<h3>Este es un encabezado de nivel 3</h3>\n",
    "<h4>Este es un encabezado de nivel 4</h4>\n",
    "<h5>Este es un encabezado de nivel 5</h5>\n",
    "<h6>Este es un encabezado de nivel 6</h6>\n",
    "```"
   ]
  },
  {
   "attachments": {},
   "cell_type": "markdown",
   "metadata": {},
   "source": [
    "##### Párrafos\t"
   ]
  },
  {
   "attachments": {},
   "cell_type": "markdown",
   "metadata": {},
   "source": [
    "Los párrafos se definen mediante la etiqueta 'p'. Si queremos agregar un salto de línea sin iniciar un nuevo párrafo, podemos utilizar la etiqueta 'br'.\n",
    "```html\n",
    "<p>Este es un párrafo.</p>\n",
    "<p>Este es otro párrafo.</p>\n",
    "<p>Este es un párrafo con un salto de línea.<br>Este es el mismo párrafo.</p>\n",
    "```"
   ]
  },
  {
   "attachments": {},
   "cell_type": "markdown",
   "metadata": {},
   "source": [
    "##### Listas"
   ]
  },
  {
   "attachments": {},
   "cell_type": "markdown",
   "metadata": {},
   "source": [
    "En HTML podemos crear listas con viñetas o numeradas utilizando las etiquetas 'ul'(unorder list) y 'ol'(order list). Cada elemento de la lista se define con la etiqueta 'li'.\n",
    "```html\n",
    "<ul>\n",
    "  <li>Elemento 1</li>\n",
    "  <li>Elemento 2</li>\n",
    "  <li>Elemento 3</li>\n",
    "</ul>\n",
    "\n",
    "<ol>\n",
    "  <li>Primer elemento</li>\n",
    "  <li>Segundo elemento</li>\n",
    "  <li>Tercer elemento</li>\n",
    "</ol>\n",
    "```\n",
    "También es posible anidar listas, creando sublistas con la etiqueta 'ul' o 'ol' dentro de una etiqueta 'li'.\n",
    "```html\n",
    "<ul>\n",
    "  <li>Elemento 1</li>\n",
    "  <li>Elemento 2\n",
    "    <ul>\n",
    "      <li>Subelemento 1</li>\n",
    "      <li>Subelemento 2</li>\n",
    "    </ul>\n",
    "  </li>\n",
    "  <li>Elemento 3</li>\n",
    "</ul>\n",
    "```"
   ]
  },
  {
   "attachments": {},
   "cell_type": "markdown",
   "metadata": {},
   "source": [
    "#### Imágenes, enlaces y tablas"
   ]
  },
  {
   "attachments": {},
   "cell_type": "markdown",
   "metadata": {},
   "source": [
    "##### Imágenes"
   ]
  },
  {
   "attachments": {},
   "cell_type": "markdown",
   "metadata": {},
   "source": [
    "Para insertar una imagen en una página web, se utiliza la etiqueta img. La imagen puede estar en el mismo servidor que la página o en un servidor remoto. El atributo src especifica la ruta de la imagen.\n",
    "```html\n",
    "<img src=\"ruta/a/la/imagen.jpg\" alt=\"Texto alternativo\">\n",
    "```\n",
    "El atributo alt proporciona un texto alternativo que se mostrará si la imagen no se puede cargar. Esto es importante para la accesibilidad y para la comprensión de los motores de búsqueda."
   ]
  },
  {
   "attachments": {},
   "cell_type": "markdown",
   "metadata": {},
   "source": [
    "##### Enlaces"
   ]
  },
  {
   "attachments": {},
   "cell_type": "markdown",
   "metadata": {},
   "source": [
    "Los enlaces en HTML se crean utilizando la etiqueta a. El atributo href especifica la URL de destino. El texto que se mostrará en el enlace se escribe entre las etiquetas de apertura y cierre.\n",
    "```html\n",
    "<a href=\"https://www.ejemplo.com\">Texto del enlace</a>\n",
    "```\n",
    "También es posible enlazar a secciones de la misma página utilizando un enlace interno. En este caso, se utiliza el atributo href con el valor # seguido del id de la sección.\n",
    "```html\n",
    "<a href=\"#seccion1\">Enlace a la sección 1</a>\n",
    "```"
   ]
  },
  {
   "attachments": {},
   "cell_type": "markdown",
   "metadata": {},
   "source": [
    "##### Tablas"
   ]
  },
  {
   "attachments": {},
   "cell_type": "markdown",
   "metadata": {},
   "source": [
    "Las tablas en HTML se crean utilizando la etiqueta table. Cada fila de la tabla se crea con la etiqueta tr, y cada celda de la fila se crea con la etiqueta td.\n",
    "```html\n",
    "<table>\n",
    "  <tr>\n",
    "    <td>Celda 1</td>\n",
    "    <td>Celda 2</td>\n",
    "  </tr>\n",
    "  <tr>\n",
    "    <td>Celda 3</td>\n",
    "    <td>Celda 4</td>\n",
    "  </tr>\n",
    "</table>\n",
    "```\n",
    "Es posible añadir encabezados a las filas y columnas utilizando las etiquetas th. Estas celdas se mostrarán en negrita por defecto.\n",
    "```html\n",
    "<table>\n",
    "  <tr>\n",
    "    <th>Encabezado 1</th>\n",
    "    <th>Encabezado 2</th>\n",
    "  </tr>\n",
    "  <tr>\n",
    "    <td>Celda 1</td>\n",
    "    <td>Celda 2</td>\n",
    "  </tr>\n",
    "  <tr>\n",
    "    <td>Celda 3</td>\n",
    "    <td>Celda 4</td>\n",
    "  </tr>\n",
    "</table>\n",
    "```\n",
    "Además, es posible combinar celdas utilizando los atributos rowspan y colspan.\n",
    "```html\n",
    "<table>\n",
    "  <tr>\n",
    "    <th rowspan=\"2\">Encabezado 1</th>\n",
    "    <th>Encabezado 2</th>\n",
    "  </tr>\n",
    "  <tr>\n",
    "    <td>Celda 2</td>\n",
    "  </tr>\n",
    "</table>\n",
    "```\n",
    "En este ejemplo, la primera celda de la primera fila abarcará dos filas completas, mientras que la segunda celda de la primera fila ocupará sólo una fila y una columna."
   ]
  },
  {
   "attachments": {},
   "cell_type": "markdown",
   "metadata": {},
   "source": [
    "#### Formularios"
   ]
  },
  {
   "attachments": {},
   "cell_type": "markdown",
   "metadata": {},
   "source": [
    "Los formularios son elementos clave en HTML que permiten a los usuarios ingresar información en una página web y enviarla al servidor para ser procesada. A continuación, se presentan las etiquetas y atributos principales para crear formularios en HTML:"
   ]
  },
  {
   "attachments": {},
   "cell_type": "markdown",
   "metadata": {},
   "source": [
    "1. Etiqueta form: esta etiqueta se utiliza para crear un formulario y especificar a dónde se enviará la información ingresada por el usuario. El atributo action se utiliza para especificar la URL del servidor que procesará los datos, mientras que el atributo method se utiliza para especificar el método HTTP que se utilizará para enviar los datos al servidor (generalmente GET o POST).\n",
    "```html\n",
    "<form action=\"/procesar-datos\" method=\"POST\">\n",
    "    <!-- elementos del formulario -->\n",
    "</form>\n",
    "```\n",
    "\n",
    "2. Etiqueta input: esta etiqueta se utiliza para crear un campo de entrada de datos, como una casilla de verificación, un botón de opción o un campo de texto. El atributo type se utiliza para especificar el tipo de campo de entrada, mientras que el atributo name se utiliza para especificar el nombre del campo de entrada, que se utilizará para identificar los datos en el servidor.\n",
    "```html\n",
    "<input type=\"checkbox\" name=\"recordarme\"> Recordarme\n",
    "<input type=\"radio\" name=\"sexo\" value=\"masculino\"> Masculino\n",
    "<input type=\"text\" name=\"nombre\" placeholder=\"Nombre completo\">\n",
    "```\n",
    "\n",
    "3. Etiqueta select: esta etiqueta se utiliza para crear un menú desplegable que permite al usuario seleccionar una opción de una lista de opciones. La etiqueta option se utiliza para definir cada opción dentro del menú desplegable, y el atributo value se utiliza para especificar el valor que se enviará al servidor cuando se seleccione una opción.\n",
    "```html\n",
    "<select name=\"pais\">\n",
    "    <option value=\"argentina\">Argentina</option>\n",
    "    <option value=\"brasil\">Brasil</option>\n",
    "    <option value=\"chile\">Chile</option>\n",
    "    <option value=\"mexico\">México</option>\n",
    "</select>\n",
    "```\n",
    "\n",
    "4. Etiqueta textarea: esta etiqueta se utiliza para crear un campo de entrada de texto de varias líneas. El atributo name se utiliza para especificar el nombre del campo de entrada, mientras que el atributo rows y cols se utilizan para especificar el número de filas y columnas del campo de entrada.\n",
    "```html\n",
    "<textarea name=\"comentarios\" rows=\"5\" cols=\"40\"></textarea>\n",
    "```\n",
    "\n",
    "5. Etiqueta button: esta etiqueta se utiliza para crear un botón que el usuario puede hacer clic para enviar el formulario. El atributo type se utiliza para especificar el tipo de botón, que puede ser submit para enviar el formulario o reset para borrar los datos ingresados por el usuario.\n",
    "```html\n",
    "<button type=\"submit\">Enviar</button>\n",
    "<button type=\"reset\">Borrar</button>\n",
    "```\n",
    "\n",
    "6. Etiqueta label: esta etiqueta se utiliza para asociar una etiqueta de texto con un campo de entrada de datos. Esto permite al usuario hacer clic en el texto de la etiqueta para seleccionar el campo de entrada correspondiente.\n",
    "```html\n",
    "<label for=\"nombre\">Nombre:</label>\n",
    "<input type=\"text\" name=\"nombre\" id=\"nombre\">\n",
    "```"
   ]
  }
 ],
 "metadata": {
  "language_info": {
   "name": "python"
  },
  "orig_nbformat": 4
 },
 "nbformat": 4,
 "nbformat_minor": 2
}
