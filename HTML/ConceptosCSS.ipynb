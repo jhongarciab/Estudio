{
 "cells": [
  {
   "attachments": {},
   "cell_type": "markdown",
   "metadata": {},
   "source": [
    "<h1 align=\"center\">Introducción a CSS</h1> "
   ]
  },
  {
   "attachments": {},
   "cell_type": "markdown",
   "metadata": {},
   "source": [
    "CSS (Cascading Style Sheets) es un lenguaje de estilo utilizado para definir la apariencia y el formato de un documento HTML. CSS se utiliza para separar la presentación del contenido de un documento, lo que permite una mayor flexibilidad y control en la apariencia del sitio web. Para aplicar CSS a un documento HTML, se pueden utilizar diferentes métodos, como incluir el código CSS directamente en la sección 'head' del documento HTML, o vincular un archivo externo de CSS al documento HTML utilizando la etiqueta 'link'."
   ]
  },
  {
   "attachments": {},
   "cell_type": "markdown",
   "metadata": {},
   "source": [
    "#### Sintaxis de CSS"
   ]
  },
  {
   "attachments": {},
   "cell_type": "markdown",
   "metadata": {},
   "source": [
    "La sintaxis básica de CSS se compone de un selector y un conjunto de propiedades y valores. El selector se utiliza para apuntar a un elemento HTML específico al que se aplicarán las propiedades y valores.\n",
    "El siguiente es un ejemplo básico de sintaxis de CSS:\n",
    "```css\n",
    "selector {\n",
    "    propiedad: valor;\n",
    "    propiedad: valor;\n",
    "    propiedad: valor;\n",
    "}\n",
    "```\n",
    "En este ejemplo, \"selector\" es el elemento HTML al que se aplicarán las propiedades y valores, y las propiedades y valores se especifican dentro de las llaves."
   ]
  },
  {
   "attachments": {},
   "cell_type": "markdown",
   "metadata": {},
   "source": [
    "#### Selección de elementos"
   ]
  },
  {
   "attachments": {},
   "cell_type": "markdown",
   "metadata": {},
   "source": [
    "Hay varios tipos de selectores que se pueden utilizar para seleccionar elementos HTML específicos para aplicar CSS. Algunos de los selectores más comunes incluyen:"
   ]
  }
 ],
 "metadata": {
  "language_info": {
   "name": "python"
  },
  "orig_nbformat": 4
 },
 "nbformat": 4,
 "nbformat_minor": 2
}
