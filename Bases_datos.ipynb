{
 "cells": [
  {
   "cell_type": "markdown",
   "metadata": {},
   "source": [
    "<h1 align=\"center\">Bases de Datos con Python y PostgreSQL</h1> "
   ]
  },
  {
   "attachments": {},
   "cell_type": "markdown",
   "metadata": {},
   "source": [
    "### Conexión a Base de Datos"
   ]
  },
  {
   "attachments": {},
   "cell_type": "markdown",
   "metadata": {},
   "source": [
    "Primero, necesitarás instalar el paquete psycopg2, que es una biblioteca de adaptadores de bases de datos para el lenguaje de programación Python que te permitirá interactuar con PostgreSQL."
   ]
  },
  {
   "cell_type": "code",
   "execution_count": null,
   "metadata": {},
   "outputs": [],
   "source": [
    "pip install psycopg2-binary"
   ]
  },
  {
   "attachments": {},
   "cell_type": "markdown",
   "metadata": {},
   "source": [
    "A continuación, importa el paquete psycopg2 y se establece una conexión a la base de datos de PostgreSQL usando los detalles de conexión, como el host, la base de datos, el usuario y la contraseña."
   ]
  },
  {
   "cell_type": "code",
   "execution_count": null,
   "metadata": {},
   "outputs": [],
   "source": [
    "import psycopg2\n",
    "\n",
    "conexion = psycopg2.connect(\n",
    "    user='postgres',\n",
    "    password='xxx',\n",
    "    host='127.0.0.1',\n",
    "    port='5432',\n",
    "    database='Test_db'\n",
    ")\n",
    "\n",
    "print(conexion) #<connection object at 0x0000020747C67890; dsn: 'user=postgres password=xxx dbname=Test_db host=127.0.0.1 port=5432', closed: 0>"
   ]
  },
  {
   "attachments": {},
   "cell_type": "markdown",
   "metadata": {},
   "source": [
    "Una vez concetado, es importante tener presente ciertas consultas básicas usadas es recomendable usar palabras reservadas en mayúscula. \n",
    "En este caso, \"persona\" es la base de datos creada.\n",
    "\n",
    "Para recuperar información de la base de datos se usa:\n",
    "\n",
    "SELECT * FROM persona\n",
    "\n",
    "Para limitar la cantidad de registros a ser mostrados:\n",
    "\n",
    "SELECT * FROM persona WHERE id_persona IN (rango)\n",
    "\n",
    "Para insertar información:\n",
    "\n",
    "INSERT INTO persona(columnas a afectar separadas por ,) VALUES (valores que entrarán en las columnas entre '' y separadas por ,)\n",
    "Esto último, sigue un órden, por ende el primer valor de VALUES se asociará al primer valor de persona().\n",
    "\n",
    "Para actualizar alguno de los registros:\n",
    "\n",
    "UPDATE persona SET 'columna a ser cambiada' = 'Nuevo nombre', 'otra columna' = 'xx' WHERE  id_persona=(rango)\n",
    "En este caso, la columna a ser cambiada no lleva comillas, pero lo que va a modificar sí, como también es importante indicar a qué registros se les va a hacer la actualización o se actualizarán todos.\n",
    "\n",
    "Para eliminar un registro:\n",
    "\n",
    "DELETE FROM persona WHERE id_persona=(rango)\n",
    "En este caso también es importante señalar el \"where\" de caso contrario se eliminará todo."
   ]
  },
  {
   "attachments": {},
   "cell_type": "markdown",
   "metadata": {},
   "source": [
    "Como siguiente paso, creamos un cursor, que nos va a permitir crear secuencias SQL:"
   ]
  },
  {
   "cell_type": "code",
   "execution_count": null,
   "metadata": {},
   "outputs": [],
   "source": [
    "cursor = conexion.cursor()\n",
    "sentencia = 'SELECT * FROM persona'\n",
    "cursor.execute(sentencia) #Ejecuta la sentencia\n",
    "registros = cursor.fetchall() #Obtiene todos los registros\n",
    "print(registros) #Ej: [('Juan', 35), ('Karla', 37), ('Ricardo', 20)]\n",
    "\n",
    "cursor.close()\n",
    "conexion.close() #Cierra la conexión"
   ]
  },
  {
   "attachments": {},
   "cell_type": "markdown",
   "metadata": {},
   "source": [
    "### Uso de Python y PostgreSQL"
   ]
  },
  {
   "attachments": {},
   "cell_type": "markdown",
   "metadata": {},
   "source": [
    "El uso de with es una buena práctica ya que asegura que la conexión y el cursor se cierren correctamente al final de su uso, evitando así posibles errores o fugas de memoria."
   ]
  },
  {
   "cell_type": "code",
   "execution_count": null,
   "metadata": {},
   "outputs": [],
   "source": [
    "import psycopg2\n",
    "\n",
    "conexion = psycopg2.connect(\n",
    "    user='postgres',\n",
    "    password='xxxx',\n",
    "    host='127.0.0.1',\n",
    "    port='5432',\n",
    "    database='Test_db'\n",
    ")\n",
    "\n",
    "with conexion:\n",
    "    with conexion.cursor() as cursor:\n",
    "        sentencia = 'SELECT * FROM persona'\n",
    "        cursor.execute(sentencia)\n",
    "        registros = cursor.fetchall()\n",
    "        print(registros)"
   ]
  },
  {
   "attachments": {},
   "cell_type": "markdown",
   "metadata": {},
   "source": [
    "De esta manera, no hace falta usar el bloque de la conexión, ya que de eso se encarga el bloque with, sin embargo, es recomedable encasillar todo en un bloque try con finally para cerrar el objeto conexión."
   ]
  },
  {
   "cell_type": "code",
   "execution_count": null,
   "metadata": {},
   "outputs": [],
   "source": [
    "import psycopg2\n",
    "\n",
    "conexion = psycopg2.connect(\n",
    "    user='postgres',\n",
    "    password='xxxx',\n",
    "    host='127.0.0.1',\n",
    "    port='5432',\n",
    "    database='Test_db'\n",
    ")\n",
    "try:\n",
    "    with conexion:\n",
    "        with conexion.cursor() as cursor:\n",
    "            sentencia = 'SELECT * FROM persona'\n",
    "            cursor.execute(sentencia)\n",
    "            registros = cursor.fetchall()\n",
    "            print(registros)\n",
    "except Exception as e:\n",
    "    print(f'Ocurrió un error: {e}')\n",
    "finally:\n",
    "    conexion.close()"
   ]
  },
  {
   "attachments": {},
   "cell_type": "markdown",
   "metadata": {},
   "source": [
    "Por otra parte, para regresar un solo registro, teniendo en cuenta que fetchall recupera todo, lo que hacemos es cambiar la sentencia con las consultas básicas ya vistas\n",
    "\n",
    "sentencia = 'SELECT * FROM persona WHERE id_persona = 2'\n",
    "\n",
    "Esto puede ser más dinámico al usar parámetros denominados placeholder o parámetro posicional y se usa llamando '%s', para así sustituir el valor a ser llamado por una variable. En el ejemplo siguiente, se le pide al usuario que proporcione lo que quiera recuperar."
   ]
  },
  {
   "cell_type": "code",
   "execution_count": null,
   "metadata": {},
   "outputs": [],
   "source": [
    "\n",
    "try:\n",
    "    with conexion:\n",
    "        with conexion.cursor() as cursor:\n",
    "            sentencia = 'SELECT * FROM persona WHERE id_persona = %s'\n",
    "            entrada = input('Proporciona el id_persona: ') #Variable a ser llamada\n",
    "            cursor.execute(sentencia, (entrada,)) #Se debe enviar una tupla\n",
    "            registros = cursor.fetchall()\n",
    "            print(registros)\n",
    "except Exception as e:\n",
    "    print(f'Ocurrió un error: {e}')\n",
    "finally:\n",
    "    conexion.close()"
   ]
  },
  {
   "attachments": {},
   "cell_type": "markdown",
   "metadata": {},
   "source": [
    "Otro valor a tener en cuenta, es 'fetchone' que es un método que se utiliza para obtener una única fila de resultados de la consulta. Cada vez que se llama al método fetchone, se obtiene una nueva fila hasta que no haya más filas que recuperar. Esto es especialmente útil cuando se espera un conjunto grande de resultados y se quiere procesarlos uno a uno para ahorrar memoria.\n",
    "\n",
    "A diferencia con fetchall es que este es un método que se utiliza para obtener todas las filas que devuelve una consulta. Es decir, devuelve una lista con todas las filas obtenidas como resultado de la consulta. Este método es útil cuando se espera un conjunto relativamente pequeño de resultados.\n",
    "\n",
    "Por lo que  la principal diferencia entre fetchall y fetchone es que fetchall devuelve todas las filas obtenidas por la consulta como una lista, mientras que fetchone devuelve una sola fila cada vez que se llama al método."
   ]
  }
 ],
 "metadata": {
  "kernelspec": {
   "display_name": "Python 3",
   "language": "python",
   "name": "python3"
  },
  "language_info": {
   "name": "python",
   "version": "3.11.3"
  },
  "orig_nbformat": 4
 },
 "nbformat": 4,
 "nbformat_minor": 2
}
