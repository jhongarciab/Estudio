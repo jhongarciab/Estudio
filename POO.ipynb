{
 "cells": [
  {
   "attachments": {},
   "cell_type": "markdown",
   "metadata": {},
   "source": [
    "<h1 align=\"center\">Programación Orientada a Objetos</h1> "
   ]
  },
  {
   "attachments": {},
   "cell_type": "markdown",
   "metadata": {},
   "source": [
    "### Clases y Objetos"
   ]
  },
  {
   "attachments": {},
   "cell_type": "markdown",
   "metadata": {},
   "source": [
    "Una clase es una plantilla o molde para crear objetos, que son instancias de esa clase. Cada objeto tiene propiedades (también llamadas atributos) y métodos, que son funciones que pueden ser llamadas por el objeto."
   ]
  },
  {
   "cell_type": "code",
   "execution_count": 1,
   "metadata": {},
   "outputs": [
    {
     "name": "stdout",
     "output_type": "stream",
     "text": [
      "<class 'type'>\n"
     ]
    }
   ],
   "source": [
    "class MiClase:\n",
    "    def __init__(self, atributo1, atributo2):\n",
    "        self.atributo1 = atributo1\n",
    "        self.atributo2 = atributo2\n",
    "        \n",
    "    def metodo1(self):\n",
    "        # Código del método\n",
    "        \n",
    "    def metodo2(self):\n",
    "        # Código del método"
   ]
  },
  {
   "attachments": {},
   "cell_type": "markdown",
   "metadata": {},
   "source": [
    "En este ejemplo, la clase MiClase tiene dos atributos (atributo1 y atributo2) y dos métodos (metodo1 y metodo2). El método __init__ es un método especial llamado constructor, que se llama automáticamente cuando se crea un objeto de la clase. El parámetro self se refiere al objeto que está siendo creado. La variable 'self', no tiene que ser esa, puede ser cualquiera, ya que lo que hace es almacenar los valores de los atributos, pero puede ser cualquiera. Ej:"
   ]
  },
  {
   "cell_type": "code",
   "execution_count": 3,
   "metadata": {},
   "outputs": [
    {
     "name": "stdout",
     "output_type": "stream",
     "text": [
      "Hola, mi nombre es Juan Perez y tengo 25 años.\n"
     ]
    }
   ],
   "source": [
    "class persona:\n",
    "    def __init__(self, nombre, apellido, edad):\n",
    "        self.nombre = nombre\n",
    "        self.apellido = apellido\n",
    "        self.edad = edad\n",
    "\n",
    "    def saludo(self):\n",
    "        print(\"Hola, mi nombre es\", self.nombre, self.apellido, \"y tengo\", self.edad, \"años.\")\n",
    "\n",
    "persona1 = persona(\"Juan\", \"Perez\", 25)\n",
    "persona1.saludo()"
   ]
  },
  {
   "attachments": {},
   "cell_type": "markdown",
   "metadata": {},
   "source": [
    "Como anotación, también se puede añadir lo visto en los fundamentos, *a y *kw, para añadir a los atributos tuplas, diccionarios, etc, un ejemplo de esto:"
   ]
  },
  {
   "cell_type": "code",
   "execution_count": null,
   "metadata": {},
   "outputs": [],
   "source": [
    "class persona:\n",
    "    def __init__(self, nombre, apellido, edad, *valores, **terminos):\n",
    "        self.nombre = nombre\n",
    "        self.apellido = apellido\n",
    "        self.edad = edad\n",
    "        self.valores = valores\n",
    "        self.terminos = terminos\n",
    "\n",
    "    def saludo(self):\n",
    "        print(\"Hola, mi nombre es\", self.nombre, self.apellido, \"y tengo\", self.edad, \"años.\", self.valores, self.terminos)\n",
    "\n",
    "persona1 = persona(\"Juan\", \"Perez\", 25, 1, 2, 3, 4, 5, 6, 7, 8, 9, 10, a=1, b=2, c=3, d=4, e=5)\n",
    "persona1.saludo()"
   ]
  },
  {
   "attachments": {},
   "cell_type": "markdown",
   "metadata": {},
   "source": [
    "### Encapsulamiento"
   ]
  },
  {
   "attachments": {},
   "cell_type": "markdown",
   "metadata": {},
   "source": [
    "El encapsulamiento significa que los detalles internos de una clase no son visibles para el mundo exterior, y solo se puede interactuar con la clase a través de sus métodos públicos.\n",
    "Se puede implementar el encapsulamiento utilizando los atributos privados y los métodos getter y setter. Los atributos privados se definen agregando un guión bajo al inicio del nombre del atributo, lo que indica que solo deben ser accedidos desde dentro de la clase. Los métodos getter y setter permiten acceder a los atributos privados de una clase de manera segura y controlada."
   ]
  },
  {
   "cell_type": "code",
   "execution_count": null,
   "metadata": {},
   "outputs": [],
   "source": [
    "class Persona:\n",
    "    def __init__(self, nombre, edad):\n",
    "        self._nombre = nombre\n",
    "        self._edad = edad\n",
    "\n",
    "    def get_nombre(self):\n",
    "        return self._nombre\n",
    "\n",
    "    def set_nombre(self, nombre):\n",
    "        self._nombre = nombre\n",
    "\n",
    "    def get_edad(self):\n",
    "        return self._edad\n",
    "\n",
    "    def set_edad(self, edad):\n",
    "        if edad > 0:\n",
    "            self._edad = edad\n",
    "\n",
    "    def __del__(self):\n",
    "        print(f\"{self._nombre} ha sido eliminado.\")\n",
    "\n",
    "persona1 = Persona(\"Juan\", 25)\n",
    "print(persona1.get_nombre())  # Juan\n",
    "persona1.set_nombre(\"Pedro\")\n",
    "print(persona1.get_nombre())  # Pedro\n",
    "print(persona1.get_edad())  # 25\n",
    "persona1.set_edad(-10)\n",
    "print(persona1.get_edad())  # 25\n",
    "del persona1  # Juan ha sido eliminado."
   ]
  },
  {
   "attachments": {},
   "cell_type": "markdown",
   "metadata": {},
   "source": [
    "En este ejemplo, la clase Persona tiene dos atributos privados: _nombre y _edad. Los métodos get_nombre, set_nombre, get_edad y set_edad son los métodos getter y setter, respectivamente. El método __del__ es el destructor, que se llama automáticamente cuando el objeto es eliminado. Otra forma de llamar a los atributos privados sin métodos nuevos es con funciones decoradas:"
   ]
  },
  {
   "cell_type": "code",
   "execution_count": null,
   "metadata": {},
   "outputs": [],
   "source": [
    "class Persona:\n",
    "    def __init__(self, nombre, edad):\n",
    "        self._nombre = nombre\n",
    "        self._edad = edad\n",
    "\n",
    "    def __del__(self):\n",
    "        print(f\"{self._nombre} ha sido eliminado.\")\n",
    "\n",
    "    @property\n",
    "    def nombre(self):\n",
    "        return self._nombre\n",
    "    \n",
    "    @nombre.setter\n",
    "    def nombre(self, nombre):\n",
    "        self._nombre = nombre\n",
    "\n",
    "    @property\n",
    "    def edad(self):\n",
    "        return self._edad\n",
    "    \n",
    "    @edad.setter\n",
    "    def edad(self, edad):\n",
    "        return self._edad"
   ]
  },
  {
   "attachments": {},
   "cell_type": "markdown",
   "metadata": {},
   "source": [
    "Además, también es común utilizar módulos para implementar el encapsulamiento. Los módulos son archivos que contienen funciones y variables que pueden ser importados y utilizados en otros archivos Python. Al importar un módulo, se puede acceder a todas las funciones y variables públicas del módulo, mientras que las variables y funciones privadas no son visibles desde fuera del módulo. Al crear otro archivo se pueden importar clases del mismo como en el siguiente ejemplo. Suponiendo que hay un archivo llamado \"módulo\" donde hay varias clases, si se usa un * se importan todas las clases, de no ser así, se importa con el nombre de la clase que se quiera usar."
   ]
  },
  {
   "cell_type": "code",
   "execution_count": null,
   "metadata": {},
   "outputs": [],
   "source": [
    "from nombre_archivo import nombre_clases as M # Importamos la clase del archivo.py\n",
    "\n",
    "nombre_clases.metodo() # Llamamos al método de la clase"
   ]
  },
  {
   "attachments": {},
   "cell_type": "markdown",
   "metadata": {},
   "source": [
    "### Herencia"
   ]
  },
  {
   "attachments": {},
   "cell_type": "markdown",
   "metadata": {},
   "source": [
    "La herencia es un mecanismo que permite crear una nueva clase a partir de una clase existente. La nueva clase, llamada subclase o clase derivada, hereda todos los atributos y métodos de la clase existente, llamada clase base o clase padre, y además puede añadir nuevos atributos y métodos o modificar los ya existentes. La herencia permite reutilizar código y facilita la creación de clases más complejas. Su sintaxis es la siguiente:"
   ]
  },
  {
   "cell_type": "code",
   "execution_count": null,
   "metadata": {},
   "outputs": [],
   "source": [
    "class SubClase(ClaseBase):\n",
    "    def __init__(self, argumentos):\n",
    "        super().__init__(argumentos)\n",
    "        # código adicional para inicializar la subclase"
   ]
  },
  {
   "attachments": {},
   "cell_type": "markdown",
   "metadata": {},
   "source": [
    "En el siguiente ejemplo se puede apreciar una clase padre y una clase hija. La clase Estudiante es una subclase de Persona, ya que hereda todos los atributos y métodos de la clase Persona. Además, la subclase Estudiante añade un nuevo atributo carrera, y modifica el método presentarse para que incluya información sobre la carrera que está estudiando."
   ]
  },
  {
   "cell_type": "code",
   "execution_count": null,
   "metadata": {},
   "outputs": [],
   "source": [
    "class Persona:\n",
    "    def __init__(self, nombre, edad):\n",
    "        self._nombre = nombre\n",
    "        self._edad = edad\n",
    "\n",
    "    def __str__(self):\n",
    "        return f\"Nombre: {self._nombre}, Edad: {self._edad}\"\n",
    "    \n",
    "class Estudiante(Persona):\n",
    "    def __init__(self, nombre, edad, carrera):\n",
    "        super().__init__(nombre, edad)\n",
    "        self._carrera = carrera\n",
    "\n",
    "    def presentación(self):\n",
    "        super().__str__()\n",
    "        print(f\"Carrera: {self._carrera}\")"
   ]
  },
  {
   "attachments": {},
   "cell_type": "markdown",
   "metadata": {},
   "source": [
    "Otra forma más general de usar la herencia es cambiando el super() con init de cada clase. Ej:"
   ]
  },
  {
   "attachments": {},
   "cell_type": "markdown",
   "metadata": {},
   "source": [
    "#### Herencia Múltiple"
   ]
  },
  {
   "attachments": {},
   "cell_type": "markdown",
   "metadata": {},
   "source": [
    "La herencia múltiple es un mecanismo en el que una clase puede heredar atributos y métodos de más de una clase padre. En Python, se utiliza la sintaxis class Hija(Padre1, Padre2, ...) para declarar una clase hija que hereda de múltiples clases padre. Ejemplo:"
   ]
  },
  {
   "cell_type": "code",
   "execution_count": null,
   "metadata": {},
   "outputs": [],
   "source": [
    "class Figura:\n",
    "    def __init__(self, ancho, alto):\n",
    "        self.ancho = ancho\n",
    "        self.alto = alto\n",
    "\n",
    "class Color:\n",
    "    def __init__(self, color):\n",
    "        self.color = color\n",
    "    \n",
    "#Clase que hereda de las clases Figura y Color\n",
    "class Cuadrado(Figura, Color):\n",
    "    def __init__(self, ancho, alto, color):\n",
    "        super().__init__(ancho, alto)\n",
    "        super().__init__(color)\n",
    "\n",
    "    def area(self):\n",
    "        return self.ancho * self.alto\n",
    "    \n",
    "cuadrado1 = Cuadrado(10, 10, \"Rojo\")\n",
    "print(cuadrado1.area()) # 100"
   ]
  },
  {
   "attachments": {},
   "cell_type": "markdown",
   "metadata": {},
   "source": [
    "Importante a la hora de trabajar con herencia múltiple, para tener una jeraquía de clases, o sea, el orden en la que los métodos se van a llevar a cabo, se usa MRO (Method Resolution Order), normalmente toma como primero la clase que se defina primero, en el caso anterior el orden es (Figura, Color). Lo que hace es que al ejecutar el código busca en la clase hija (Cuadrado), luego en la clase Figura y por último en la clase Color."
   ]
  },
  {
   "cell_type": "code",
   "execution_count": null,
   "metadata": {},
   "outputs": [],
   "source": [
    "print(cuadrado1.mro()) # Muestra la jerarquía de clases\n",
    "# [<class '__main__.Cuadrado'>, <class '__main__.Figura'>, <class '__main__.Color'>, <class 'object'>]"
   ]
  },
  {
   "attachments": {},
   "cell_type": "markdown",
   "metadata": {},
   "source": [
    "A continuación un ejemplo ampliando el código anterior sumando otra herencia múltiple y encapsulando los atributos."
   ]
  },
  {
   "cell_type": "code",
   "execution_count": 26,
   "metadata": {},
   "outputs": [
    {
     "name": "stdout",
     "output_type": "stream",
     "text": [
      "-----Creación de objetos de la clase Cuadrado-----\n",
      "100\n",
      "Ancho: 10, Alto: 10, Color: Rojo\n",
      "----Creación de objetos de la clase Rectángulo----\n",
      "100\n",
      "Ancho: 10, Alto: 10, Color: Azul\n"
     ]
    }
   ],
   "source": [
    "class Figura:\n",
    "    def __init__(self, ancho, alto):\n",
    "        self._ancho = ancho\n",
    "        self._alto = alto\n",
    "    \n",
    "    @property\n",
    "    def ancho(self):\n",
    "        return self._ancho\n",
    "    \n",
    "    @ancho.setter\n",
    "    def ancho(self, ancho):\n",
    "        self._ancho = ancho\n",
    "\n",
    "    @property\n",
    "    def alto(self):\n",
    "        return self._alto\n",
    "    \n",
    "    @alto.setter\n",
    "    def alto(self, alto):\n",
    "        self._alto = alto\n",
    "\n",
    "    def __str__(self):\n",
    "        return f\"Ancho: {self._ancho}, Alto: {self._alto}\"\n",
    "\n",
    "class Color:\n",
    "    def __init__(self, color):\n",
    "        self._color = color\n",
    "\n",
    "    @property\n",
    "    def color(self):\n",
    "        return self._color\n",
    "    \n",
    "    @color.setter\n",
    "    def color(self, color):\n",
    "        self._color = color\n",
    "\n",
    "    def __str__(self):\n",
    "        return f\"Color: {self._color}\"\n",
    "    \n",
    "#Clase que hereda de las clases Figura y Color\n",
    "class Cuadrado(Figura, Color):\n",
    "    def __init__(self, ancho, alto, color):\n",
    "        Figura.__init__(self, ancho, alto)\n",
    "        Color.__init__(self, color)\n",
    "\n",
    "    def area(self):\n",
    "        return self._ancho * self._alto\n",
    "    \n",
    "    def __str__(self):\n",
    "        return f'{Figura.__str__(self)}, {Color.__str__(self)}'\n",
    "    \n",
    "class Rectangulo(Figura, Color):\n",
    "    def __init__(self, ancho, alto, color):\n",
    "        Figura.__init__(self, ancho, alto)\n",
    "        Color.__init__(self, color)\n",
    "\n",
    "    def area(self):\n",
    "        return self._ancho * self._alto\n",
    "    \n",
    "    def __str__(self):\n",
    "        return f'{Figura.__str__(self)}, {Color.__str__(self)}'\n",
    "    \n",
    "print('Creación de objetos de la clase Cuadrado'.center(50, '-'))\n",
    "cuadrado1 = Cuadrado(10, 10, \"Rojo\")\n",
    "print(cuadrado1.area()) # 100\n",
    "print(cuadrado1) # Ancho: 10, Alto: 10, Color: Rojo\n",
    "\n",
    "print('Creación de objetos de la clase Rectángulo'.center(50, '-'))\n",
    "rectangulo1 = Rectangulo(10, 10, \"Azul\")\n",
    "print(rectangulo1.area()) # 100\n",
    "print(rectangulo1) # Ancho: 10, Alto: 10, Ancho: 10, Alto: 10"
   ]
  }
 ],
 "metadata": {
  "kernelspec": {
   "display_name": "Python 3",
   "language": "python",
   "name": "python3"
  },
  "language_info": {
   "codemirror_mode": {
    "name": "ipython",
    "version": 3
   },
   "file_extension": ".py",
   "mimetype": "text/x-python",
   "name": "python",
   "nbconvert_exporter": "python",
   "pygments_lexer": "ipython3",
   "version": "3.11.3"
  },
  "orig_nbformat": 4
 },
 "nbformat": 4,
 "nbformat_minor": 2
}
