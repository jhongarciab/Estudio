{
 "cells": [
  {
   "attachments": {},
   "cell_type": "markdown",
   "metadata": {},
   "source": [
    "<h1 align=\"center\">Programación Orientada a Objetos</h1> "
   ]
  },
  {
   "attachments": {},
   "cell_type": "markdown",
   "metadata": {},
   "source": [
    "### Clases y Objetos"
   ]
  },
  {
   "attachments": {},
   "cell_type": "markdown",
   "metadata": {},
   "source": [
    "Una clase es una plantilla o molde para crear objetos, que son instancias de esa clase. Cada objeto tiene propiedades (también llamadas atributos) y métodos, que son funciones que pueden ser llamadas por el objeto."
   ]
  },
  {
   "cell_type": "code",
   "execution_count": 1,
   "metadata": {},
   "outputs": [
    {
     "name": "stdout",
     "output_type": "stream",
     "text": [
      "<class 'type'>\n"
     ]
    }
   ],
   "source": [
    "class MiClase:\n",
    "    def __init__(self, atributo1, atributo2):\n",
    "        self.atributo1 = atributo1\n",
    "        self.atributo2 = atributo2\n",
    "        \n",
    "    def metodo1(self):\n",
    "        # Código del método\n",
    "        \n",
    "    def metodo2(self):\n",
    "        # Código del método"
   ]
  },
  {
   "attachments": {},
   "cell_type": "markdown",
   "metadata": {},
   "source": [
    "En este ejemplo, la clase MiClase tiene dos atributos (atributo1 y atributo2) y dos métodos (metodo1 y metodo2). El método __init__ es un método especial llamado constructor, que se llama automáticamente cuando se crea un objeto de la clase. El parámetro self se refiere al objeto que está siendo creado. La variable 'self', no tiene que ser esa, puede ser cualquiera, ya que lo que hace es almacenar los valores de los atributos, pero puede ser cualquiera. Ej:"
   ]
  },
  {
   "cell_type": "code",
   "execution_count": 3,
   "metadata": {},
   "outputs": [
    {
     "name": "stdout",
     "output_type": "stream",
     "text": [
      "Hola, mi nombre es Juan Perez y tengo 25 años.\n"
     ]
    }
   ],
   "source": [
    "class persona:\n",
    "    def __init__(self, nombre, apellido, edad):\n",
    "        self.nombre = nombre\n",
    "        self.apellido = apellido\n",
    "        self.edad = edad\n",
    "\n",
    "    def saludo(self):\n",
    "        print(\"Hola, mi nombre es\", self.nombre, self.apellido, \"y tengo\", self.edad, \"años.\")\n",
    "\n",
    "persona1 = persona(\"Juan\", \"Perez\", 25)\n",
    "persona1.saludo()"
   ]
  },
  {
   "attachments": {},
   "cell_type": "markdown",
   "metadata": {},
   "source": [
    "Como anotación, también se puede añadir lo visto en los fundamentos, *a y *kw, para añadir a los atributos tuplas, diccionarios, etc, un ejemplo de esto:"
   ]
  },
  {
   "cell_type": "code",
   "execution_count": null,
   "metadata": {},
   "outputs": [],
   "source": [
    "class persona:\n",
    "    def __init__(self, nombre, apellido, edad, *valores, **terminos):\n",
    "        self.nombre = nombre\n",
    "        self.apellido = apellido\n",
    "        self.edad = edad\n",
    "        self.valores = valores\n",
    "        self.terminos = terminos\n",
    "\n",
    "    def saludo(self):\n",
    "        print(\"Hola, mi nombre es\", self.nombre, self.apellido, \"y tengo\", self.edad, \"años.\", self.valores, self.terminos)\n",
    "\n",
    "persona1 = persona(\"Juan\", \"Perez\", 25, 1, 2, 3, 4, 5, 6, 7, 8, 9, 10, a=1, b=2, c=3, d=4, e=5)\n",
    "persona1.saludo()"
   ]
  },
  {
   "attachments": {},
   "cell_type": "markdown",
   "metadata": {},
   "source": [
    "### Encapsulamiento"
   ]
  },
  {
   "cell_type": "markdown",
   "metadata": {},
   "source": []
  }
 ],
 "metadata": {
  "kernelspec": {
   "display_name": "Python 3",
   "language": "python",
   "name": "python3"
  },
  "language_info": {
   "codemirror_mode": {
    "name": "ipython",
    "version": 3
   },
   "file_extension": ".py",
   "mimetype": "text/x-python",
   "name": "python",
   "nbconvert_exporter": "python",
   "pygments_lexer": "ipython3",
   "version": "3.11.3"
  },
  "orig_nbformat": 4
 },
 "nbformat": 4,
 "nbformat_minor": 2
}
