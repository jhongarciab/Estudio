{
 "cells": [
  {
   "attachments": {},
   "cell_type": "markdown",
   "metadata": {},
   "source": [
    "<h1 align=\"center\">Programación Orientada a Objetos</h1> "
   ]
  },
  {
   "attachments": {},
   "cell_type": "markdown",
   "metadata": {},
   "source": [
    "### Clases y Objetos"
   ]
  },
  {
   "attachments": {},
   "cell_type": "markdown",
   "metadata": {},
   "source": [
    "Una clase es una plantilla o molde para crear objetos, que son instancias de esa clase. Cada objeto tiene propiedades (también llamadas atributos) y métodos, que son funciones que pueden ser llamadas por el objeto."
   ]
  },
  {
   "cell_type": "code",
   "execution_count": 1,
   "metadata": {},
   "outputs": [
    {
     "name": "stdout",
     "output_type": "stream",
     "text": [
      "<class 'type'>\n"
     ]
    }
   ],
   "source": [
    "class MiClase:\n",
    "    def __init__(self, atributo1, atributo2):\n",
    "        self.atributo1 = atributo1\n",
    "        self.atributo2 = atributo2\n",
    "        \n",
    "    def metodo1(self):\n",
    "        # Código del método\n",
    "        \n",
    "    def metodo2(self):\n",
    "        # Código del método"
   ]
  },
  {
   "attachments": {},
   "cell_type": "markdown",
   "metadata": {},
   "source": [
    "En este ejemplo, la clase MiClase tiene dos atributos (atributo1 y atributo2) y dos métodos (metodo1 y metodo2). El método __init__ es un método especial llamado constructor, que se llama automáticamente cuando se crea un objeto de la clase. El parámetro self se refiere al objeto que está siendo creado. La variable 'self', no tiene que ser esa, puede ser cualquiera, ya que lo que hace es almacenar los valores de los atributos, pero puede ser cualquiera. Ej:"
   ]
  },
  {
   "cell_type": "code",
   "execution_count": 3,
   "metadata": {},
   "outputs": [
    {
     "name": "stdout",
     "output_type": "stream",
     "text": [
      "Hola, mi nombre es Juan Perez y tengo 25 años.\n"
     ]
    }
   ],
   "source": [
    "class persona:\n",
    "    def __init__(self, nombre, apellido, edad):\n",
    "        self.nombre = nombre\n",
    "        self.apellido = apellido\n",
    "        self.edad = edad\n",
    "\n",
    "    def saludo(self):\n",
    "        print(\"Hola, mi nombre es\", self.nombre, self.apellido, \"y tengo\", self.edad, \"años.\")\n",
    "\n",
    "persona1 = persona(\"Juan\", \"Perez\", 25)\n",
    "persona1.saludo()"
   ]
  },
  {
   "attachments": {},
   "cell_type": "markdown",
   "metadata": {},
   "source": [
    "Como anotación, también se puede añadir lo visto en los fundamentos, *a y *kw, para añadir a los atributos tuplas, diccionarios, etc, un ejemplo de esto:"
   ]
  },
  {
   "cell_type": "code",
   "execution_count": null,
   "metadata": {},
   "outputs": [],
   "source": [
    "class persona:\n",
    "    def __init__(self, nombre, apellido, edad, *valores, **terminos):\n",
    "        self.nombre = nombre\n",
    "        self.apellido = apellido\n",
    "        self.edad = edad\n",
    "        self.valores = valores\n",
    "        self.terminos = terminos\n",
    "\n",
    "    def saludo(self):\n",
    "        print(\"Hola, mi nombre es\", self.nombre, self.apellido, \"y tengo\", self.edad, \"años.\", self.valores, self.terminos)\n",
    "\n",
    "persona1 = persona(\"Juan\", \"Perez\", 25, 1, 2, 3, 4, 5, 6, 7, 8, 9, 10, a=1, b=2, c=3, d=4, e=5)\n",
    "persona1.saludo()"
   ]
  },
  {
   "attachments": {},
   "cell_type": "markdown",
   "metadata": {},
   "source": [
    "### Encapsulamiento"
   ]
  },
  {
   "attachments": {},
   "cell_type": "markdown",
   "metadata": {},
   "source": [
    "El encapsulamiento significa que los detalles internos de una clase no son visibles para el mundo exterior, y solo se puede interactuar con la clase a través de sus métodos públicos.\n",
    "Se puede implementar el encapsulamiento utilizando los atributos privados y los métodos getter y setter. Los atributos privados se definen agregando un guión bajo al inicio del nombre del atributo, lo que indica que solo deben ser accedidos desde dentro de la clase. Los métodos getter y setter permiten acceder a los atributos privados de una clase de manera segura y controlada."
   ]
  },
  {
   "cell_type": "code",
   "execution_count": null,
   "metadata": {},
   "outputs": [],
   "source": [
    "class Persona:\n",
    "    def __init__(self, nombre, edad):\n",
    "        self._nombre = nombre\n",
    "        self._edad = edad\n",
    "\n",
    "    def get_nombre(self):\n",
    "        return self._nombre\n",
    "\n",
    "    def set_nombre(self, nombre):\n",
    "        self._nombre = nombre\n",
    "\n",
    "    def get_edad(self):\n",
    "        return self._edad\n",
    "\n",
    "    def set_edad(self, edad):\n",
    "        if edad > 0:\n",
    "            self._edad = edad\n",
    "\n",
    "    def __del__(self):\n",
    "        print(f\"{self._nombre} ha sido eliminado.\")\n",
    "\n",
    "persona1 = Persona(\"Juan\", 25)\n",
    "print(persona1.get_nombre())  # Juan\n",
    "persona1.set_nombre(\"Pedro\")\n",
    "print(persona1.get_nombre())  # Pedro\n",
    "print(persona1.get_edad())  # 25\n",
    "persona1.set_edad(-10)\n",
    "print(persona1.get_edad())  # 25\n",
    "del persona1  # Juan ha sido eliminado."
   ]
  },
  {
   "attachments": {},
   "cell_type": "markdown",
   "metadata": {},
   "source": [
    "En este ejemplo, la clase Persona tiene dos atributos privados: _nombre y _edad. Los métodos get_nombre, set_nombre, get_edad y set_edad son los métodos getter y setter, respectivamente. El método __del__ es el destructor, que se llama automáticamente cuando el objeto es eliminado. Otra forma de llamar a los atributos privados sin métodos nuevos es con funciones decoradas:"
   ]
  },
  {
   "cell_type": "code",
   "execution_count": null,
   "metadata": {},
   "outputs": [],
   "source": [
    "class Persona:\n",
    "    def __init__(self, nombre, edad):\n",
    "        self._nombre = nombre\n",
    "        self._edad = edad\n",
    "\n",
    "    def __del__(self):\n",
    "        print(f\"{self._nombre} ha sido eliminado.\")\n",
    "\n",
    "    @property\n",
    "    def nombre(self):\n",
    "        return self._nombre\n",
    "    \n",
    "    @nombre.setter\n",
    "    def nombre(self, nombre):\n",
    "        self._nombre = nombre\n",
    "\n",
    "    @property\n",
    "    def edad(self):\n",
    "        return self._edad\n",
    "    \n",
    "    @edad.setter\n",
    "    def edad(self, edad):\n",
    "        return self._edad"
   ]
  },
  {
   "attachments": {},
   "cell_type": "markdown",
   "metadata": {},
   "source": [
    "Además, también es común utilizar módulos para implementar el encapsulamiento. Los módulos son archivos que contienen funciones y variables que pueden ser importados y utilizados en otros archivos Python. Al importar un módulo, se puede acceder a todas las funciones y variables públicas del módulo, mientras que las variables y funciones privadas no son visibles desde fuera del módulo. Al crear otro archivo se pueden importar clases del mismo como en el siguiente ejemplo. Suponiendo que hay un archivo llamado \"módulo\" donde hay varias clases, si se usa un * se importan todas las clases, de no ser así, se importa con el nombre de la clase que se quiera usar."
   ]
  },
  {
   "cell_type": "code",
   "execution_count": null,
   "metadata": {},
   "outputs": [],
   "source": [
    "from nombre_archivo import nombre_clases as M # Importamos la clase del archivo.py\n",
    "\n",
    "nombre_clases.metodo() # Llamamos al método de la clase"
   ]
  },
  {
   "attachments": {},
   "cell_type": "markdown",
   "metadata": {},
   "source": [
    "### Herencia"
   ]
  },
  {
   "attachments": {},
   "cell_type": "markdown",
   "metadata": {},
   "source": [
    "La herencia es un mecanismo que permite crear una nueva clase a partir de una clase existente. La nueva clase, llamada subclase o clase derivada, hereda todos los atributos y métodos de la clase existente, llamada clase base o clase padre, y además puede añadir nuevos atributos y métodos o modificar los ya existentes. La herencia permite reutilizar código y facilita la creación de clases más complejas. Su sintaxis es la siguiente:"
   ]
  },
  {
   "cell_type": "code",
   "execution_count": null,
   "metadata": {},
   "outputs": [],
   "source": [
    "class SubClase(ClaseBase):\n",
    "    def __init__(self, argumentos):\n",
    "        super().__init__(argumentos)\n",
    "        # código adicional para inicializar la subclase"
   ]
  },
  {
   "attachments": {},
   "cell_type": "markdown",
   "metadata": {},
   "source": [
    "En el siguiente ejemplo se puede apreciar una clase padre y una clase hija. La clase Estudiante es una subclase de Persona, ya que hereda todos los atributos y métodos de la clase Persona. Además, la subclase Estudiante añade un nuevo atributo carrera, y modifica el método presentarse para que incluya información sobre la carrera que está estudiando."
   ]
  },
  {
   "cell_type": "code",
   "execution_count": null,
   "metadata": {},
   "outputs": [],
   "source": [
    "class Persona:\n",
    "    def __init__(self, nombre, edad):\n",
    "        self._nombre = nombre\n",
    "        self._edad = edad\n",
    "\n",
    "    def __str__(self):\n",
    "        return f\"Nombre: {self._nombre}, Edad: {self._edad}\"\n",
    "    \n",
    "class Estudiante(Persona):\n",
    "    def __init__(self, nombre, edad, carrera):\n",
    "        super().__init__(nombre, edad)\n",
    "        self._carrera = carrera\n",
    "\n",
    "    def presentación(self):\n",
    "        super().__str__()\n",
    "        print(f\"Carrera: {self._carrera}\")"
   ]
  },
  {
   "attachments": {},
   "cell_type": "markdown",
   "metadata": {},
   "source": [
    "Otra forma más general de usar la herencia es cambiando el super() con con el nombre de la clase. Ej:"
   ]
  },
  {
   "cell_type": "code",
   "execution_count": null,
   "metadata": {},
   "outputs": [],
   "source": [
    "class Persona:\n",
    "    def __init__(self, nombre, edad):\n",
    "        self._nombre = nombre\n",
    "        self._edad = edad\n",
    "\n",
    "    def __str__(self):\n",
    "        return f\"Nombre: {self._nombre}, Edad: {self._edad}\"\n",
    "    \n",
    "class Estudiante(Persona):\n",
    "    def __init__(self, nombre, edad, carrera):\n",
    "        Persona.__init__(self, nombre, edad)\n",
    "        self._carrera = carrera\n",
    "\n",
    "    def presentación(self):\n",
    "        Persona.__str__(self)\n",
    "        print(f\"Carrera: {self._carrera}\")"
   ]
  },
  {
   "attachments": {},
   "cell_type": "markdown",
   "metadata": {},
   "source": [
    "#### Herencia Múltiple"
   ]
  },
  {
   "attachments": {},
   "cell_type": "markdown",
   "metadata": {},
   "source": [
    "La herencia múltiple es un mecanismo en el que una clase puede heredar atributos y métodos de más de una clase padre. En Python, se utiliza la sintaxis class Hija(Padre1, Padre2, ...) para declarar una clase hija que hereda de múltiples clases padre. Ejemplo:"
   ]
  },
  {
   "cell_type": "code",
   "execution_count": null,
   "metadata": {},
   "outputs": [],
   "source": [
    "class Figura:\n",
    "    def __init__(self, ancho, alto):\n",
    "        self.ancho = ancho\n",
    "        self.alto = alto\n",
    "\n",
    "class Color:\n",
    "    def __init__(self, color):\n",
    "        self.color = color\n",
    "    \n",
    "#Clase que hereda de las clases Figura y Color\n",
    "class Cuadrado(Figura, Color):\n",
    "    def __init__(self, ancho, alto, color):\n",
    "        super().__init__(ancho, alto)\n",
    "        super().__init__(color)\n",
    "\n",
    "    def area(self):\n",
    "        return self.ancho * self.alto\n",
    "    \n",
    "cuadrado1 = Cuadrado(10, 10, \"Rojo\")\n",
    "print(cuadrado1.area()) # 100"
   ]
  },
  {
   "attachments": {},
   "cell_type": "markdown",
   "metadata": {},
   "source": [
    "Importante a la hora de trabajar con herencia múltiple, para tener una jeraquía de clases, o sea, el orden en la que los métodos se van a llevar a cabo, se usa MRO (Method Resolution Order), normalmente toma como primero la clase que se defina primero, en el caso anterior el orden es (Figura, Color). Lo que hace es que al ejecutar el código busca en la clase hija (Cuadrado), luego en la clase Figura y por último en la clase Color."
   ]
  },
  {
   "cell_type": "code",
   "execution_count": null,
   "metadata": {},
   "outputs": [],
   "source": [
    "print(cuadrado1.mro()) # Muestra la jerarquía de clases\n",
    "# [<class '__main__.Cuadrado'>, <class '__main__.Figura'>, <class '__main__.Color'>, <class 'object'>]"
   ]
  },
  {
   "attachments": {},
   "cell_type": "markdown",
   "metadata": {},
   "source": [
    "A continuación un ejemplo ampliando el código anterior sumando otra herencia múltiple y encapsulando los atributos."
   ]
  },
  {
   "cell_type": "code",
   "execution_count": 26,
   "metadata": {},
   "outputs": [
    {
     "name": "stdout",
     "output_type": "stream",
     "text": [
      "-----Creación de objetos de la clase Cuadrado-----\n",
      "100\n",
      "Ancho: 10, Alto: 10, Color: Rojo\n",
      "----Creación de objetos de la clase Rectángulo----\n",
      "100\n",
      "Ancho: 10, Alto: 10, Color: Azul\n"
     ]
    }
   ],
   "source": [
    "class Figura:\n",
    "    def __init__(self, ancho, alto):\n",
    "        self._ancho = ancho\n",
    "        self._alto = alto\n",
    "    \n",
    "    @property\n",
    "    def ancho(self):\n",
    "        return self._ancho\n",
    "    \n",
    "    @ancho.setter\n",
    "    def ancho(self, ancho):\n",
    "        self._ancho = ancho\n",
    "\n",
    "    @property\n",
    "    def alto(self):\n",
    "        return self._alto\n",
    "    \n",
    "    @alto.setter\n",
    "    def alto(self, alto):\n",
    "        self._alto = alto\n",
    "\n",
    "    def __str__(self):\n",
    "        return f\"Ancho: {self._ancho}, Alto: {self._alto}\"\n",
    "\n",
    "class Color:\n",
    "    def __init__(self, color):\n",
    "        self._color = color\n",
    "\n",
    "    @property\n",
    "    def color(self):\n",
    "        return self._color\n",
    "    \n",
    "    @color.setter\n",
    "    def color(self, color):\n",
    "        self._color = color\n",
    "\n",
    "    def __str__(self):\n",
    "        return f\"Color: {self._color}\"\n",
    "    \n",
    "#Clase que hereda de las clases Figura y Color\n",
    "class Cuadrado(Figura, Color):\n",
    "    def __init__(self, ancho, alto, color):\n",
    "        Figura.__init__(self, ancho, alto)\n",
    "        Color.__init__(self, color)\n",
    "\n",
    "    def area(self):\n",
    "        return self._ancho * self._alto\n",
    "    \n",
    "    def __str__(self):\n",
    "        return f'{Figura.__str__(self)}, {Color.__str__(self)}'\n",
    "    \n",
    "class Rectangulo(Figura, Color):\n",
    "    def __init__(self, ancho, alto, color):\n",
    "        Figura.__init__(self, ancho, alto)\n",
    "        Color.__init__(self, color)\n",
    "\n",
    "    def area(self):\n",
    "        return self._ancho * self._alto\n",
    "    \n",
    "    def __str__(self):\n",
    "        return f'{Figura.__str__(self)}, {Color.__str__(self)}'\n",
    "    \n",
    "print('Creación de objetos de la clase Cuadrado'.center(50, '-'))\n",
    "cuadrado1 = Cuadrado(10, 10, \"Rojo\")\n",
    "print(cuadrado1.area()) # 100\n",
    "print(cuadrado1) # Ancho: 10, Alto: 10, Color: Rojo\n",
    "\n",
    "print('Creación de objetos de la clase Rectángulo'.center(50, '-'))\n",
    "rectangulo1 = Rectangulo(10, 10, \"Azul\")\n",
    "print(rectangulo1.area()) # 100\n",
    "print(rectangulo1) # Ancho: 10, Alto: 10, Ancho: 10, Alto: 10"
   ]
  },
  {
   "attachments": {},
   "cell_type": "markdown",
   "metadata": {},
   "source": [
    "### Clases Abstractas"
   ]
  },
  {
   "attachments": {},
   "cell_type": "markdown",
   "metadata": {},
   "source": [
    "Una clase abstracta en Python es una clase que no puede ser instanciada, sino que es utilizada como una plantilla para definir otras clases. En otras palabras, es una clase que se crea para ser heredada por otras clases, pero no tiene la intención de ser utilizada por sí misma.\n",
    "Se usa ABCX (Abstract Base Class) y se importa (from abs import ABC, abstractmethod) donde abstractmethod es un decorador."
   ]
  },
  {
   "cell_type": "code",
   "execution_count": null,
   "metadata": {},
   "outputs": [],
   "source": [
    "from abc import ABC, abstractmethod\n",
    "\n",
    "class Figura(ABC):\n",
    "    @abstractmethod\n",
    "    def area(self):\n",
    "        pass"
   ]
  },
  {
   "attachments": {},
   "cell_type": "markdown",
   "metadata": {},
   "source": [
    "En este ejemplo, Figura es una clase abstracta que define un método abstracto area. Esta clase no puede ser instanciada, sino que debe ser heredada por otra clase que implemente el método area.\n",
    "Ejemplo:"
   ]
  },
  {
   "cell_type": "code",
   "execution_count": null,
   "metadata": {},
   "outputs": [],
   "source": [
    "import abc\n",
    "\n",
    "class Animal(abc.ABC):\n",
    "    @abc.abstractmethod\n",
    "    def hacer_sonido(self):\n",
    "        pass\n",
    "\n",
    "class Perro(Animal):\n",
    "    def hacer_sonido(self):\n",
    "        return \"Guau guau\"\n",
    "\n",
    "class Gato(Animal):\n",
    "    def hacer_sonido(self):\n",
    "        return \"Miau miau\"\n",
    "\n",
    "class Vaca(Animal):\n",
    "    pass\n",
    "\n",
    "perro = Perro()\n",
    "gato = Gato()\n",
    "vaca = Vaca() # Esta línea genera un error ya que no se ha implementado el método abstracto\n",
    "\n",
    "print(perro.hacer_sonido()) # Imprime \"Guau guau\"\n",
    "print(gato.hacer_sonido()) # Imprime \"Miau miau\""
   ]
  },
  {
   "attachments": {},
   "cell_type": "markdown",
   "metadata": {},
   "source": [
    "Básicamente es para obligar a las clases hijas a agregar la implementación"
   ]
  },
  {
   "attachments": {},
   "cell_type": "markdown",
   "metadata": {},
   "source": [
    "### Contexto Estático"
   ]
  },
  {
   "attachments": {},
   "cell_type": "markdown",
   "metadata": {},
   "source": [
    "El contexto estático en Python, se trata sobre una variable estática que se añade a una clase, por ende, al ser llamada por un objeto, como vimos anteriormente, cada objeto es un nuevo valor de la clase, a diferencia del valor estático que es el mismo para todos los objetos. Esto puede ser útil para almacenar información que es relevante para toda la clase o para definir métodos que no requieren acceso a los atributos específicos de una instancia."
   ]
  },
  {
   "cell_type": "code",
   "execution_count": 9,
   "metadata": {},
   "outputs": [
    {
     "name": "stdout",
     "output_type": "stream",
     "text": [
      "Dinámico\n",
      "Estático\n",
      "Dinámico2\n",
      "Estático\n"
     ]
    }
   ],
   "source": [
    "class Clase:\n",
    "    variable_est = \"Estático\"\n",
    "\n",
    "    def __init__(self, variable):\n",
    "        self.variable = variable\n",
    "    \n",
    "    def metodo(self):\n",
    "        print(self.variable)\n",
    "\n",
    "clase = Clase(\"Dinámico\")\n",
    "clase.metodo()\n",
    "print(clase.variable_est)\n",
    "clase = Clase(\"Dinámico2\")\n",
    "clase.metodo()\n",
    "print(clase.variable_est)"
   ]
  },
  {
   "attachments": {},
   "cell_type": "markdown",
   "metadata": {},
   "source": [
    "Como se puede ver en el ejemplo anterior, cada objeto toma los nuevos valores definidos, pero la variable estática es la misma."
   ]
  },
  {
   "attachments": {},
   "cell_type": "markdown",
   "metadata": {},
   "source": [
    "#### Métodos Estáticos"
   ]
  },
  {
   "attachments": {},
   "cell_type": "markdown",
   "metadata": {},
   "source": [
    "También se asocian con la clase en sí misma y para indicarlo se usa un decorador (@staticmethod). Como se asocian con la clase, no pueden acceder a variables de instancia, por lo que su definición es sin argumentos."
   ]
  },
  {
   "cell_type": "code",
   "execution_count": null,
   "metadata": {},
   "outputs": [],
   "source": [
    "class Clase:\n",
    "    variable_est = \"Estático\"\n",
    "\n",
    "    def __init__(self, variable):\n",
    "        self.variable = variable\n",
    "    \n",
    "    @staticmethod\n",
    "    def metodo_estatico(): #No necesita self\n",
    "        # self.variable = \"Dinámico\" #No se puede acceder a self en un método estático\n",
    "        Clase.variable_est = \"Estático\" #Sí puede acceder a la clase\n",
    "\n",
    "Clase.metodo_estatico()"
   ]
  },
  {
   "attachments": {},
   "cell_type": "markdown",
   "metadata": {},
   "source": [
    "#### Método de Clase"
   ]
  },
  {
   "attachments": {},
   "cell_type": "markdown",
   "metadata": {},
   "source": [
    "Los métodos de clase en Python son aquellos que se definen dentro de una clase y pueden ser accedidos mediante la clase misma en lugar de a través de una instancia. Es decir, estos métodos no trabajan con atributos de instancia, sino que operan en los atributos de la clase.\n",
    "\n",
    "Para definir un método de clase, se utiliza el decorador @classmethod seguido del nombre del método. Por convención, se le pasa como primer parámetro el objeto cls, que hace referencia a la propia clase."
   ]
  },
  {
   "cell_type": "code",
   "execution_count": null,
   "metadata": {},
   "outputs": [],
   "source": [
    "class Persona:\n",
    "    contador_personas = 0\n",
    "    \n",
    "    def __init__(self, nombre, edad):\n",
    "        self.nombre = nombre\n",
    "        self.edad = edad\n",
    "        Persona.contador_personas += 1\n",
    "    \n",
    "    @classmethod\n",
    "    def contar_personas(cls):\n",
    "        print(f\"Actualmente hay {cls.contador_personas} personas registradas.\")\n",
    "        \n",
    "p1 = Persona(\"Juan\", 20)\n",
    "p2 = Persona(\"María\", 30)\n",
    "\n",
    "Persona.contar_personas()  # Actualmente hay 2 personas registradas."
   ]
  },
  {
   "attachments": {},
   "cell_type": "markdown",
   "metadata": {},
   "source": [
    "Por lo que se puede observar que la diferencia entre los mismos se trata en que el método estático no recibe ninguna referencia de la clase por lo que directamente no usa ninguna información de la clase, para usar las variables de la clase se usa en nombre de la clase en sí mismo al no recibir parámetros. Por otro lado, el método de clase, sí recibe argumentos de la clase y se puede acceder a las variables o métodos ya definidos."
   ]
  },
  {
   "attachments": {},
   "cell_type": "markdown",
   "metadata": {},
   "source": [
    "### Diseño de Clases"
   ]
  },
  {
   "attachments": {},
   "cell_type": "markdown",
   "metadata": {},
   "source": [
    "Como ya se mencionó, las clases se utilizan para encapsular datos y comportamientos relacionados en un objeto. Para diseñar una clase, es importante considerar su propósito, la información que debe contener, los métodos que debe tener y cómo interactuará con otras clases. Una buena práctica para el diseño de clases es seguir los principios SOLID, que ayudan a crear clases más cohesivas y acopladas.\n",
    "El principio SOLID es un conjunto de cinco principios de diseño de software orientado a objetos que se consideran fundamentales para el desarrollo de software de calidad, mantenible y escalable. El acrónimo SOLID se refiere a los siguientes principios:\n",
    "\n",
    "-S: Principio de responsabilidad única (Single Responsibility Principle): Cada clase debe tener una única responsabilidad y motivo de cambio. Esto significa que una clase debería estar enfocada en hacer una sola cosa y hacerla bien.\n",
    "\n",
    "-O: Principio de abierto/cerrado (Open/Closed Principle): Las clases y módulos de software deben estar abiertos para su extensión pero cerrados para su modificación. Esto significa que los cambios en los requisitos del software se logran mediante la adición de nuevos códigos en lugar de cambiar los códigos existentes.\n",
    "\n",
    "-L: Principio de sustitución de Liskov (Liskov Substitution Principle): Las clases hijas o subclases deben ser sustituibles por sus clases padre o superclases sin afectar la integridad del programa. Esto significa que una instancia de una subclase puede ser usada en cualquier lugar donde se espera una instancia de la clase padre sin causar problemas.\n",
    "\n",
    "-I: Principio de segregación de la interfaz (Interface Segregation Principle): Una clase no debe ser forzada a implementar interfaces y métodos que no va a usar. En lugar de ello, debería tener interfaces específicas para sus necesidades. Esto significa que las interfaces de una clase deben ser simples y cohesivas.\n",
    "\n",
    "-D: Principio de inversión de dependencia (Dependency Inversion Principle): Las clases de nivel superior no deben depender de las clases de nivel inferior. En lugar de ello, deben depender de abstracciones. Esto significa que la dependencia debe ser hacia interfaces o clases abstractas, no hacia implementaciones concretas."
   ]
  },
  {
   "cell_type": "code",
   "execution_count": 11,
   "metadata": {},
   "outputs": [
    {
     "name": "stdout",
     "output_type": "stream",
     "text": [
      "Orden: 1, Productos: ID: 1, Nombre: Camisa, Precio: 100|ID: 2, Nombre: Pantalon, Precio: 150|\n",
      "250\n"
     ]
    }
   ],
   "source": [
    "class Producto:\n",
    "    contador_productos = 0\n",
    "\n",
    "    def __init__(self, nombre, precio):\n",
    "        Producto.contador_productos += 1\n",
    "        self._id_producto = Producto.contador_productos\n",
    "        self._nombre = nombre\n",
    "        self._precio = precio\n",
    "\n",
    "    @property\n",
    "    def id_producto(self):\n",
    "        return self._id_producto\n",
    "    \n",
    "    @id_producto.setter\n",
    "    def id_producto(self, id_producto):\n",
    "        self._id_producto = id_producto\n",
    "    \n",
    "    @property\n",
    "    def nombre(self):\n",
    "        return self._nombre\n",
    "    \n",
    "    @nombre.setter\n",
    "    def nombre(self, nombre):\n",
    "        self._nombre = nombre\n",
    "\n",
    "    @property\n",
    "    def precio(self):\n",
    "        return self._precio\n",
    "    \n",
    "    @precio.setter\n",
    "    def precio(self, precio):\n",
    "        self._precio = precio\n",
    "\n",
    "    def __str__(self):\n",
    "        return f\"ID: {self._id_producto}, Nombre: {self._nombre}, Precio: {self._precio}\"\n",
    "\n",
    "class Orden:\n",
    "    contador_ordenes = 0\n",
    "\n",
    "    def __init__(self, productos):\n",
    "        Orden.contador_ordenes += 1\n",
    "        self._id_orden = Orden.contador_ordenes\n",
    "        self._productos = list(productos)\n",
    "\n",
    "    def agregar_productos(self, producto):\n",
    "        self._productos.append(producto)\n",
    "\n",
    "    def calcular_total(self):\n",
    "        total = 0\n",
    "        for producto in self._productos:\n",
    "            total += producto.precio\n",
    "        return total    \n",
    "    \n",
    "    def __str__(self):\n",
    "        productos_str = ''\n",
    "        for producto in self._productos:\n",
    "            productos_str += producto.__str__() + '|'\n",
    "        return f\"Orden: {self._id_orden}, Productos: {productos_str}\"\n",
    "    \n",
    "producto1 = Producto(\"Camisa\", 100)\n",
    "producto2 = Producto(\"Pantalon\", 150)\n",
    "producto3 = Producto(\"Calcetines\", 50)\n",
    "productos1 = [producto1, producto2]\n",
    "orden1 = Orden(productos1)\n",
    "print(orden1)\n",
    "print(orden1.calcular_total())"
   ]
  },
  {
   "attachments": {},
   "cell_type": "markdown",
   "metadata": {},
   "source": [
    "### Sobrecarga de Operadores"
   ]
  },
  {
   "attachments": {},
   "cell_type": "markdown",
   "metadata": {},
   "source": [
    "La sobrecarga de operadores se refiere a la capacidad de definir y utilizar operadores en clases personalizadas. En Python, la sobrecarga de operadores se implementa mediante la definición de métodos especiales con nombres específicos que son reconocidos como operadores.\n",
    "\n",
    "+ \\+ (suma)\n",
    "+ \\- (resta)\n",
    "+ \\* (multiplicación)\n",
    "+ / (división)\n",
    "+ % (módulo)\n",
    "+ == (igualdad)\n",
    "+ != (desigualdad)\n",
    "+ < (menor que)\n",
    "+ \\> (mayor que)\n",
    "+ <= (menor o igual que)\n",
    "+ \\>= (mayor o igual que)\n",
    "+ [] (índice)\n",
    "+ () (llamada)"
   ]
  },
  {
   "cell_type": "code",
   "execution_count": null,
   "metadata": {},
   "outputs": [],
   "source": [
    "class Complejo:\n",
    "    def __init__(self, real, imaginario):\n",
    "        self.real = real\n",
    "        self.imaginario = imaginario\n",
    "        \n",
    "    def __add__(self, otro):\n",
    "        suma_real = self.real + otro.real\n",
    "        suma_imaginario = self.imaginario + otro.imaginario\n",
    "        return Complejo(suma_real, suma_imaginario)\n",
    "    \n",
    "    def __str__(self):\n",
    "        return f\"{self.real} + {self.imaginario}i\"\n",
    "    \n",
    "# Crear dos números complejos\n",
    "c1 = Complejo(3, 4)\n",
    "c2 = Complejo(2, -1)\n",
    "\n",
    "# Sumar los números complejos\n",
    "c3 = c1 + c2\n",
    "\n",
    "# Imprimir el resultado\n",
    "print(c3)  # Imprime \"5 + 3i\""
   ]
  },
  {
   "attachments": {},
   "cell_type": "markdown",
   "metadata": {},
   "source": [
    "### Polimorfismo"
   ]
  },
  {
   "attachments": {},
   "cell_type": "markdown",
   "metadata": {},
   "source": [
    "Se refiere a la capacidad de un objeto de una clase para ser tratado como si fuera un objeto de otra clase, siempre y cuando la clase del objeto original sea un subtipo de la clase a la que se quiere tratar como si fuera.\n",
    "\n",
    "Esto permite que un objeto pueda tener diferentes formas, es decir, comportarse de diferentes maneras según el contexto en el que se utilice. Esto se logra mediante la implementación de métodos con el mismo nombre en distintas clases, pero con diferentes implementaciones según la clase.\n",
    "\n",
    "El polimorfismo permite escribir código más genérico y reutilizable, ya que los objetos pueden ser utilizados de diferentes maneras sin necesidad de conocer su tipo específico."
   ]
  },
  {
   "cell_type": "code",
   "execution_count": 12,
   "metadata": {},
   "outputs": [
    {
     "name": "stdout",
     "output_type": "stream",
     "text": [
      "Fido dice Guau\n",
      "Michi dice Miau\n",
      "Lola dice Muu\n"
     ]
    }
   ],
   "source": [
    "class Animal:\n",
    "    def __init__(self, nombre):\n",
    "        self.nombre = nombre\n",
    "    \n",
    "    def hacer_sonido(self):\n",
    "        pass\n",
    "\n",
    "class Perro(Animal):\n",
    "    def hacer_sonido(self):\n",
    "        return \"Guau\"\n",
    "\n",
    "class Gato(Animal):\n",
    "    def hacer_sonido(self):\n",
    "        return \"Miau\"\n",
    "\n",
    "class Vaca(Animal):\n",
    "    def hacer_sonido(self):\n",
    "        return \"Muu\"\n",
    "\n",
    "animales = [Perro(\"Fido\"), Gato(\"Michi\"), Vaca(\"Lola\")]\n",
    "\n",
    "for animal in animales:\n",
    "    print(animal.nombre + \" dice \" + animal.hacer_sonido())"
   ]
  },
  {
   "attachments": {},
   "cell_type": "markdown",
   "metadata": {},
   "source": [
    "En cuanto a la diferncia con herencia, esta se refiere a la capacidad de una clase de heredar propiedades y comportamientos de una clase base o clase padre. Por otro lado, el polimorfismo se refiere a la capacidad de un objeto de tomar múltiples formas o comportarse de diferentes maneras según el contexto."
   ]
  },
  {
   "attachments": {},
   "cell_type": "markdown",
   "metadata": {},
   "source": [
    "Otro concepto importante, al tratarse de instancias de clase, es isinstance(), es útil en el contexto del polimorfismo para determinar si un objeto es una instancia de una clase base o de una subclase, y así determinar cómo tratarlo en el código. \n",
    "\n",
    "Por ejemplo, si tenemos una clase Animal y dos subclases Perro y Gato, podemos crear una lista que contenga tanto perros como gatos, y luego iterar sobre esa lista y llamar al método sonido() en cada objeto. Sin embargo, dado que las clases Perro y Gato tienen diferentes implementaciones del método sonido(), necesitamos usar la función isinstance() para determinar de qué tipo de objeto se trata en cada iteración."
   ]
  },
  {
   "cell_type": "code",
   "execution_count": 13,
   "metadata": {},
   "outputs": [
    {
     "name": "stdout",
     "output_type": "stream",
     "text": [
      "Guau\n",
      "Miau\n",
      "Guau\n"
     ]
    }
   ],
   "source": [
    "class Animal:\n",
    "    def sonido(self):\n",
    "        pass\n",
    "\n",
    "class Perro(Animal):\n",
    "    def sonido(self):\n",
    "        return \"Guau\"\n",
    "\n",
    "class Gato(Animal):\n",
    "    def sonido(self):\n",
    "        return \"Miau\"\n",
    "\n",
    "lista_animales = [Perro(), Gato(), Perro()]\n",
    "\n",
    "for animal in lista_animales:\n",
    "    if isinstance(animal, Perro):\n",
    "        print(animal.sonido())  # Imprime \"Guau\" para los dos objetos Perro\n",
    "    elif isinstance(animal, Gato):\n",
    "        print(animal.sonido())  # Imprime \"Miau\" para el objeto Gato"
   ]
  }
 ],
 "metadata": {
  "kernelspec": {
   "display_name": "Python 3",
   "language": "python",
   "name": "python3"
  },
  "language_info": {
   "codemirror_mode": {
    "name": "ipython",
    "version": 3
   },
   "file_extension": ".py",
   "mimetype": "text/x-python",
   "name": "python",
   "nbconvert_exporter": "python",
   "pygments_lexer": "ipython3",
   "version": "3.11.3"
  },
  "orig_nbformat": 4
 },
 "nbformat": 4,
 "nbformat_minor": 2
}
